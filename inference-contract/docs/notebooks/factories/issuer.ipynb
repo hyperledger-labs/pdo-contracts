{
 "cells": [
  {
   "cell_type": "markdown",
   "id": "1a3c02c0-c544-4e0c-b827-955a12b88761",
   "metadata": {},
   "source": [
    "# Issuer Factory\n",
    "\n",
    "Use this notebook to create an issuer notebook that can be used to issue assets to users."
   ]
  },
  {
   "cell_type": "code",
   "execution_count": null,
   "id": "6be77a6e-ae7b-47e4-b47c-f45d49174b02",
   "metadata": {},
   "outputs": [],
   "source": [
    "import os\n",
    "import pdo.exchange.jupyter as ex_jupyter\n",
    "import IPython.display as ip_display\n",
    "\n",
    "ex_jupyter.load_ipython_extension(get_ipython())"
   ]
  },
  {
   "cell_type": "markdown",
   "id": "cedcd8aa-0da9-4732-a0ce-d23ea9fb5097",
   "metadata": {},
   "source": [
    "## Configure Issuer Information\n",
    "\n",
    "This section enables customization of the token that will be minted. Edit the variables in the section below as necessary.\n",
    "\n",
    "* identity : the identity of the token creator\n",
    "* token_class : the name of tokens that will be generated\n",
    "\n",
    "Note that the notebook assumes that there is a key file for the identity of the form: `${keys}/${identity}_private.pem`."
   ]
  },
  {
   "cell_type": "code",
   "execution_count": null,
   "id": "469fcdb8-f2b5-476a-9d1a-bf823b488202",
   "metadata": {},
   "outputs": [],
   "source": [
    "identity = input('Identity of the issuer: ')\n",
    "asset_name = input('Name of the asset:')\n",
    "asset_description = input('Description of the asset: ')\n",
    "asset_link = input('Link to more information about the asset: ')\n",
    "service_host = input('Service host (e.g. \"localhost\"): ')\n",
    "notebook_directory = os.path.abspath(os.path.join(os.getcwd(), os.pardir))"
   ]
  },
  {
   "cell_type": "markdown",
   "id": "ba9e357d-5455-4232-81bd-1ada00bbf983",
   "metadata": {},
   "source": [
    "## Create the Issuer Notebook\n",
    "\n",
    "Create a new issuer notebook with the specific asset identified."
   ]
  },
  {
   "cell_type": "code",
   "execution_count": null,
   "id": "f817cb5b-c6cb-4189-8ee6-51d598a3686f",
   "metadata": {},
   "outputs": [],
   "source": [
    "instance_directory = os.path.join(notebook_directory, 'instances', asset_name)\n",
    "instance_file = os.path.join(instance_directory, 'issuer.ipynb')\n",
    "template_file = os.path.join(notebook_directory, 'templates', 'issuer.ipynb')\n",
    "\n",
    "if not os.path.exists(instance_file) :\n",
    "    os.makedirs(instance_directory, exist_ok=True)\n",
    "    \n",
    "    instance_parameters = {\n",
    "        'identity' : identity,\n",
    "        'asset_name' : asset_name,\n",
    "        'asset_description' : asset_description,\n",
    "        'asset_link' : asset_link,\n",
    "        'service_host' : service_host,\n",
    "        'notebook_directory' : notebook_directory,\n",
    "    }\n",
    "    \n",
    "    import papermill as pm\n",
    "    pm.execute_notebook(\n",
    "        template_file,\n",
    "        instance_file,\n",
    "        prepare_only=True,\n",
    "        parameters=instance_parameters,\n",
    "    )\n",
    "instance_path = os.path.join(os.pardir, 'instances', asset_name, 'issuer.ipynb')\n",
    "ip_display.display(ip_display.Markdown('[Issuer Notebook]({})'.format(instance_path)))"
   ]
  }
 ],
 "metadata": {
  "kernelspec": {
   "display_name": "Python 3 (ipykernel)",
   "language": "python",
   "name": "python3"
  },
  "language_info": {
   "codemirror_mode": {
    "name": "ipython",
    "version": 3
   },
   "file_extension": ".py",
   "mimetype": "text/x-python",
   "name": "python",
   "nbconvert_exporter": "python",
   "pygments_lexer": "ipython3",
   "version": "3.8.10"
  }
 },
 "nbformat": 4,
 "nbformat_minor": 5
}
