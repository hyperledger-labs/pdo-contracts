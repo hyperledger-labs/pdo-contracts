{
 "cells": [
  {
   "cell_type": "markdown",
   "id": "ebbd888f-4e42-4e4f-adc3-74c9ffb15d17",
   "metadata": {},
   "source": [
    "# Getting Started with PDO Contracts #"
   ]
  },
  {
   "cell_type": "markdown",
   "id": "50941f29-0159-4f8e-9da6-429ce55bc7f8",
   "metadata": {},
   "source": [
    "Assumptions: \n",
    "* PDO client virtual environment has been installed in `${PDO_INSTALL_ROOT}`\n",
    "* PDO Contracts packages have been built and installed in the client virtual environment\n",
    "* PDO services are running \n",
    "\n",
    "1. Create a personal configuration file\n",
    "2. Create a services database\n",
    "3. Create a service group configuration"
   ]
  },
  {
   "cell_type": "markdown",
   "id": "6613767e-230c-4738-8ac0-b27432f4790a",
   "metadata": {},
   "source": [
    "## Simplified configuration\n",
    "\n",
    "If you are running the PDO services in the common test configuration (e.g. with 5 provisioning services, 5 enclave service, and 5 storage services all running on the same host, you can create all of the necessary configuration files with the command:\n",
    "    \n",
    "```\n",
    "    $ export service_host=<service hostname>\n",
    "    $ ${PDO_INSTALL_ROOT}/opt/pdo/bin/pdo-create-service-groups.psh --service_host ${service_host}\n",
    "```\n",
    "\n",
    "Use `service_host` in the notebooks that you create.\n"
   ]
  },
  {
   "cell_type": "markdown",
   "id": "5b41ab88-ed4c-4fe1-aeba-2ae9b2a80dff",
   "metadata": {},
   "source": [
    "### Create a personal configuration file\n",
    "\n",
    "The default PDO client configuration file is in `${PDO_INSTALL_ROOT}/opt/pdo/etc/pcontract.toml`. This file contains a basic configuration that should suffice for testing on a single host. \n",
    "\n",
    "*TODO: add a notebook that creates a configuration file.*\n"
   ]
  },
  {
   "cell_type": "markdown",
   "id": "1d67fc24-73d6-4f38-b0b7-fd9846882025",
   "metadata": {},
   "source": [
    "### Create a services database\n",
    "\n",
    "The PDO client requires information about the enclave services that will be used for contracts. Typically, a service provider will create a site description file. For example, if the site description file is called `site.toml` (the default), then the following command will add all of the services to the database:\n",
    "\n",
    "```\n",
    "$ ${PDO_INSTALL_ROOT}/bin/pdo-service-db import --file site.toml\n",
    "```"
   ]
  },
  {
   "cell_type": "markdown",
   "id": "b543883a-2d03-410a-8337-decd404d78b6",
   "metadata": {},
   "source": [
    "### Create a service group configuration\n",
    "\n",
    "Service groups are a shortcut for configuration of collections of enclave, storage, and provisioning services used to create and provision a PDO contract object. \n",
    "\n",
    "*TODO: add a notebook that creates a groups file.*"
   ]
  }
 ],
 "metadata": {
  "kernelspec": {
   "display_name": "Python 3 (ipykernel)",
   "language": "python",
   "name": "python3"
  },
  "language_info": {
   "codemirror_mode": {
    "name": "ipython",
    "version": 3
   },
   "file_extension": ".py",
   "mimetype": "text/x-python",
   "name": "python",
   "nbconvert_exporter": "python",
   "pygments_lexer": "ipython3",
   "version": "3.10.12"
  }
 },
 "nbformat": 4,
 "nbformat_minor": 5
}
