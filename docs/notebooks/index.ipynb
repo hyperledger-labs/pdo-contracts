{
 "cells": [
  {
   "cell_type": "markdown",
   "id": "ebbd888f-4e42-4e4f-adc3-74c9ffb15d17",
   "metadata": {},
   "source": [
    "# PDO Contracts Launch Page #"
   ]
  },
  {
   "cell_type": "markdown",
   "id": "1c6389c6-fe5f-4c39-9216-d69169c81588",
   "metadata": {},
   "source": [
    "[Hyperledger Private Data Objects](https://github.com/hyperledger-labs/private-data-objects) operates as a Hyperledger Labs project. This code is provided solely to demonstrate basic PDO mechanisms and to facilitate\n",
    "collaboration to refine PDO architecture and define minimum viable product requirements.\n",
    "\n",
    "**The PDO contracts code provided here is prototype code and not intended for production use.**"
   ]
  },
  {
   "cell_type": "markdown",
   "id": "4361dc64-a3e8-4b89-bd90-78f6e5f25f82",
   "metadata": {},
   "source": [
    "## Getting Started"
   ]
  },
  {
   "cell_type": "markdown",
   "id": "8d4ad398-3672-4a3a-b00b-62b0d5242252",
   "metadata": {},
   "source": [
    "There are a number of configuration options for interacting with PDO contracts. More information can be found in the [Getting Started](documents/getting_started.ipynb) notebook.\n",
    "\n"
   ]
  },
  {
   "cell_type": "markdown",
   "id": "ca35afa7-01d2-47b8-962a-4d8dc8cc887a",
   "metadata": {},
   "source": [
    "## Contract Families"
   ]
  },
  {
   "cell_type": "markdown",
   "id": "da2e561f-9448-4122-ae7e-3963e65949b0",
   "metadata": {},
   "source": [
    "### Exchange"
   ]
  },
  {
   "cell_type": "markdown",
   "id": "3af87e8e-06ec-4569-b95f-649d6a62d2fa",
   "metadata": {},
   "source": [
    "The Exchange contract family is a suite of contracts that demonstrate many of the capabilities of the private data objects technologies. Three basic contracts define the elements of the Exchange contract family: the asset type contract, the vetting organization contract, and the issuer contract. Three additional contracts extend the Exchange contract family for trading potentially confidential assets using non-fungible tokens.\n",
    "\n",
    "[Exchange Contract Family](exchange/index.ipynb)\n"
   ]
  },
  {
   "cell_type": "markdown",
   "id": "d06d0d21-e01b-481f-900f-c957a6b39cb2",
   "metadata": {},
   "source": [
    "### Digital Assets"
   ]
  },
  {
   "cell_type": "markdown",
   "id": "1e7520df-126c-41c7-ac31-295579a120a0",
   "metadata": {},
   "source": [
    "The Digital Assets contract family implements a basic digital asset for bitmap images. The contracts extend the asset and token contracts in the Exchange contract family for sharing images with well-defined policies.\n"
   ]
  },
  {
   "cell_type": "markdown",
   "id": "c84be947-f363-4934-b2bf-18b59e654bb0",
   "metadata": {},
   "source": [
    "### Inference"
   ]
  },
  {
   "cell_type": "markdown",
   "id": "eb2639c2-d8c8-4bc4-a48a-17b87e2a7c9f",
   "metadata": {},
   "source": [
    "The Inference contract family provides contracts for creating a confidentiality preserving policy-wrapper around the usage of a machine learning (ML) model. At its core, the implementation uses a token contract to  specify and enforce policies to be followed while using the ML model for inferecing operations. \n"
   ]
  },
  {
   "cell_type": "code",
   "execution_count": null,
   "id": "4bd53afc-fcd8-493c-b76f-3475a968641c",
   "metadata": {},
   "outputs": [],
   "source": []
  }
 ],
 "metadata": {
  "kernelspec": {
   "display_name": "Python 3 (ipykernel)",
   "language": "python",
   "name": "python3"
  },
  "language_info": {
   "codemirror_mode": {
    "name": "ipython",
    "version": 3
   },
   "file_extension": ".py",
   "mimetype": "text/x-python",
   "name": "python",
   "nbconvert_exporter": "python",
   "pygments_lexer": "ipython3",
   "version": "3.10.12"
  }
 },
 "nbformat": 4,
 "nbformat_minor": 5
}
