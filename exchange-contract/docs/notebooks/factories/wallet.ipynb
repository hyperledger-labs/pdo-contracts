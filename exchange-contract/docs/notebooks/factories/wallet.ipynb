{
 "cells": [
  {
   "cell_type": "markdown",
   "id": "1a3c02c0-c544-4e0c-b827-955a12b88761",
   "metadata": {
    "editable": true,
    "slideshow": {
     "slide_type": ""
    },
    "tags": []
   },
   "source": [
    "# Wallet Factory\n",
    "\n",
    "Use this notebook to create a wallet associated with a particular issuer."
   ]
  },
  {
   "cell_type": "code",
   "execution_count": null,
   "id": "6be77a6e-ae7b-47e4-b47c-f45d49174b02",
   "metadata": {},
   "outputs": [],
   "source": [
    "import os\n",
    "import pdo.contracts.jupyter as pc_jupyter\n",
    "import IPython.display as ip_display\n",
    "\n",
    "pc_jupyter.load_ipython_extension(get_ipython())"
   ]
  },
  {
   "cell_type": "markdown",
   "id": "cedcd8aa-0da9-4732-a0ce-d23ea9fb5097",
   "metadata": {},
   "source": [
    "## Configure Wallet and Issuer Information\n",
    "\n",
    "This section enables customization of the wallet and the issuer with which it is associated.\n",
    "\n",
    "* identity : the identity of the token creator\n",
    "* asset_name : the name of tokens that will be generated\n",
    "* context_file : the \n",
    "\n",
    "Note that the notebook assumes that there is a key file for the identity of the form: `${keys}/${identity}_private.pem`."
   ]
  },
  {
   "cell_type": "code",
   "execution_count": null,
   "id": "469fcdb8-f2b5-476a-9d1a-bf823b488202",
   "metadata": {
    "editable": true,
    "slideshow": {
     "slide_type": ""
    },
    "tags": []
   },
   "outputs": [],
   "source": [
    "identity = input('Identity of the wallet owner: ')\n",
    "asset_name = input('Name of the asset:')\n",
    "context_file = input('Path to the contract context file')"
   ]
  },
  {
   "cell_type": "markdown",
   "id": "ba9e357d-5455-4232-81bd-1ada00bbf983",
   "metadata": {
    "editable": true,
    "slideshow": {
     "slide_type": ""
    },
    "tags": []
   },
   "source": [
    "## Create the Wallet Notebook\n",
    "\n",
    "Create a new wallet notebook with the specific asset identified."
   ]
  },
  {
   "cell_type": "code",
   "execution_count": null,
   "id": "f817cb5b-c6cb-4189-8ee6-51d598a3686f",
   "metadata": {
    "editable": true,
    "slideshow": {
     "slide_type": ""
    },
    "tags": []
   },
   "outputs": [],
   "source": [
    "parameters = {\n",
    "    'identity' : identity,\n",
    "    'asset_name' : asset_name,\n",
    "    'context_file' : context_file,\n",
    "}\n",
    "\n",
    "instance_file = pc_jupyter.instantiate_notebook_from_template(asset_name, 'wallet', parameters)   \n",
    "ip_display.display(ip_display.Markdown('[Wallet]({})'.format(instance_file)))"
   ]
  },
  {
   "cell_type": "code",
   "execution_count": null,
   "id": "411f16e8-d88b-4227-93b6-4926bf70c0de",
   "metadata": {},
   "outputs": [],
   "source": []
  }
 ],
 "metadata": {
  "kernelspec": {
   "display_name": "Python 3 (ipykernel)",
   "language": "python",
   "name": "python3"
  },
  "language_info": {
   "codemirror_mode": {
    "name": "ipython",
    "version": 3
   },
   "file_extension": ".py",
   "mimetype": "text/x-python",
   "name": "python",
   "nbconvert_exporter": "python",
   "pygments_lexer": "ipython3",
   "version": "3.10.12"
  }
 },
 "nbformat": 4,
 "nbformat_minor": 5
}
