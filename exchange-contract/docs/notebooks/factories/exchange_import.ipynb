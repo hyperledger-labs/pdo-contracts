{
 "cells": [
  {
   "cell_type": "markdown",
   "id": "1a3c02c0-c544-4e0c-b827-955a12b88761",
   "metadata": {
    "editable": true,
    "slideshow": {
     "slide_type": ""
    },
    "tags": []
   },
   "source": [
    "# Exchange Import Factory\n",
    "\n",
    "Use this notebook to import an exchange of assets from two issuers."
   ]
  },
  {
   "cell_type": "code",
   "execution_count": null,
   "id": "6be77a6e-ae7b-47e4-b47c-f45d49174b02",
   "metadata": {},
   "outputs": [],
   "source": [
    "import os\n",
    "import pdo.contracts.jupyter as pc_jupyter\n",
    "import IPython.display as ip_display\n",
    "\n",
    "pc_jupyter.load_ipython_extension(get_ipython())"
   ]
  },
  {
   "cell_type": "markdown",
   "id": "cedcd8aa-0da9-4732-a0ce-d23ea9fb5097",
   "metadata": {},
   "source": [
    "## Configure Exchange and Issuer Information\n",
    "\n",
    "This section enables customization of the wallet and the issuer with which it is associated.\n",
    "\n",
    "* identity : the identity of the creator of the asset type\n",
    "* exchange_import_file : the name of the contract import file for an existing exchange\n",
    "* exchange_context_file : the name of the context file to use for the exchange contract\n",
    "\n",
    "Note that the notebook assumes that there is a key file for the identity of the form: `${keys}/${identity}_private.pem`."
   ]
  },
  {
   "cell_type": "code",
   "execution_count": null,
   "id": "469fcdb8-f2b5-476a-9d1a-bf823b488202",
   "metadata": {
    "editable": true,
    "slideshow": {
     "slide_type": ""
    },
    "tags": []
   },
   "outputs": [],
   "source": [
    "identity = input('Identity to use with the exchange: ')\n",
    "exchange_import_file = input('Name of the exchange import file: ')\n",
    "exchange_context_file = input('Name of the file to use for the context: ')"
   ]
  },
  {
   "cell_type": "markdown",
   "id": "ba9e357d-5455-4232-81bd-1ada00bbf983",
   "metadata": {
    "editable": true,
    "slideshow": {
     "slide_type": ""
    },
    "tags": []
   },
   "source": [
    "## Create the Exchange Notebook\n",
    "\n",
    "Create a new exchange notebook with the specific issuers identified."
   ]
  },
  {
   "cell_type": "code",
   "execution_count": null,
   "id": "f817cb5b-c6cb-4189-8ee6-51d598a3686f",
   "metadata": {
    "editable": true,
    "slideshow": {
     "slide_type": ""
    },
    "tags": []
   },
   "outputs": [],
   "source": [
    "parameters = {\n",
    "    'identity' : identity,\n",
    "    'exchange_import_file' : exchange_import_file,\n",
    "    'exchange_context_file' : exchange_context_file,\n",
    "}\n",
    "\n",
    "instance_file = pc_jupyter.instantiate_notebook_from_template('exchange', 'exchange_import', parameters)   \n",
    "ip_display.display(ip_display.Markdown('[Exchange]({})'.format(instance_file)))"
   ]
  }
 ],
 "metadata": {
  "kernelspec": {
   "display_name": "Python 3 (ipykernel)",
   "language": "python",
   "name": "python3"
  },
  "language_info": {
   "codemirror_mode": {
    "name": "ipython",
    "version": 3
   },
   "file_extension": ".py",
   "mimetype": "text/x-python",
   "name": "python",
   "nbconvert_exporter": "python",
   "pygments_lexer": "ipython3",
   "version": "3.10.12"
  }
 },
 "nbformat": 4,
 "nbformat_minor": 5
}
