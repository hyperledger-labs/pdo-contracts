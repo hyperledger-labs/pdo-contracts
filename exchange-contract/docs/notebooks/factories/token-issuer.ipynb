{
 "cells": [
  {
   "cell_type": "markdown",
   "id": "6f80caf7-1c92-4223-b480-4fa943371a8b",
   "metadata": {
    "editable": true,
    "slideshow": {
     "slide_type": ""
    },
    "tags": []
   },
   "source": [
    "# Token Family Factory\n",
    "\n",
    "This notebook simplifies the creation of an instance of a token issuer. Update the token configuration information then evaluate the notebook to create a new token issuer. That token issuer will be able to mint tokens."
   ]
  },
  {
   "cell_type": "code",
   "execution_count": null,
   "id": "941d1c9d",
   "metadata": {
    "editable": true,
    "slideshow": {
     "slide_type": ""
    },
    "tags": []
   },
   "outputs": [],
   "source": [
    "import os\n",
    "import pdo.contracts.jupyter as pc_jupyter\n",
    "import IPython.display as ip_display\n",
    "\n",
    "pc_jupyter.load_ipython_extension(get_ipython())"
   ]
  },
  {
   "cell_type": "markdown",
   "id": "ad963a1f-e0fe-4d1d-90f8-3583e4b54471",
   "metadata": {
    "editable": true,
    "slideshow": {
     "slide_type": ""
    },
    "tags": []
   },
   "source": [
    "## Configure Token Information\n",
    "\n",
    "This section enables customization of the token that will be minted. Edit the variables in the section below as necessary.\n",
    "\n",
    "* identity : the identity of the token creator\n",
    "* token_class : the name of tokens that will be generated\n",
    "\n",
    "Note that the notebook assumes that there is a key file for the identity of the form: `${keys}/${identity}_private.pem`."
   ]
  },
  {
   "cell_type": "code",
   "execution_count": null,
   "id": "58272e84-76a3-4ec4-a11a-6d9ac0f1951f",
   "metadata": {
    "editable": true,
    "slideshow": {
     "slide_type": ""
    },
    "tags": [
     "parameters"
    ]
   },
   "outputs": [],
   "source": [
    "identity = input('Identity of the token issuer: ')\n",
    "token_class = input('Name of the class of tokens to issue: ')\n",
    "token_description = input('Description of the token [my token]') or 'my token'\n",
    "count = input('Number of tokens to mint [5] ') or 5\n",
    "service_host = input('Service host [localhost]: ') or \"localhost\""
   ]
  },
  {
   "cell_type": "markdown",
   "id": "bdce1f1a-5626-40a9-8e8f-44af54269f91",
   "metadata": {
    "editable": true,
    "slideshow": {
     "slide_type": ""
    },
    "tags": []
   },
   "source": [
    "## Create the Token Issuer Notebook\n",
    "\n",
    "Create a new token issuer notebook with the specific token identified.\n"
   ]
  },
  {
   "cell_type": "code",
   "execution_count": null,
   "id": "f8ef720a-abf3-4008-a5ef-6920bbaa005a",
   "metadata": {
    "editable": true,
    "slideshow": {
     "slide_type": ""
    },
    "tags": []
   },
   "outputs": [],
   "source": [
    "instance_parameters = {\n",
    "    'token_owner' : identity,\n",
    "    'token_class' : token_class,\n",
    "    'token_description' : token_description,\n",
    "    'count' : int(count),\n",
    "    'service_host' : service_host,\n",
    "}\n",
    "\n",
    "instance_file = pc_jupyter.instantiate_notebook_from_template(token_class, 'token-issuer', instance_parameters)   \n",
    "ip_display.display(ip_display.Markdown('[Token Issuer]({})'.format(instance_file)))"
   ]
  }
 ],
 "metadata": {
  "kernelspec": {
   "display_name": "Python 3 (ipykernel)",
   "language": "python",
   "name": "python3"
  },
  "language_info": {
   "codemirror_mode": {
    "name": "ipython",
    "version": 3
   },
   "file_extension": ".py",
   "mimetype": "text/x-python",
   "name": "python",
   "nbconvert_exporter": "python",
   "pygments_lexer": "ipython3",
   "version": "3.10.12"
  }
 },
 "nbformat": 4,
 "nbformat_minor": 5
}
