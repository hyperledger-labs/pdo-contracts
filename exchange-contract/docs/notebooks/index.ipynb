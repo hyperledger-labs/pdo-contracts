{
 "cells": [
  {
   "cell_type": "markdown",
   "id": "67bb03c9-aa81-4491-bf6f-ce9a51d1af7d",
   "metadata": {},
   "source": [
    "# Exchange Contract Family\n"
   ]
  },
  {
   "cell_type": "markdown",
   "id": "4d656d82-daec-42fa-8d89-67c45f09f9e1",
   "metadata": {},
   "source": [
    "## Getting Started\n",
    "\n",
    "Assumptions: \n",
    "* PDO client virtual environment has been installed in `${PDO_INSTALL_ROOT}`\n",
    "* PDO Contracts packages have been built and installed in the client virtual environment\n",
    "* PDO services are running \n",
    "\n",
    "1. Create a personal configuration file\n",
    "2. Create a services database\n",
    "3. Create a service group configuration"
   ]
  },
  {
   "cell_type": "markdown",
   "id": "ee5e4693-c43d-4a6a-bb95-583f75643780",
   "metadata": {},
   "source": [
    "### Simplified configuration\n",
    "\n",
    "If you are running the PDO services in the common test configuration (e.g. with 5 provisioning services, 5 enclave service, and 5 storage services all running on the same host, you can create all of the necessary configuration files with the command:\n",
    "    \n",
    "```\n",
    "    $ export service_host=<service hostname>\n",
    "    $ ${PDO_INSTALL_ROOT}/opt/pdo/bin/pdo-create-service-groups.psh --service_host ${service_host}\n",
    "```\n",
    "\n",
    "Use `service_host` in the notebooks that you create.\n"
   ]
  },
  {
   "cell_type": "markdown",
   "id": "bc2fe555-a933-42e4-ad25-421e56baaac5",
   "metadata": {},
   "source": [
    "### Create a personal configuration file\n",
    "\n",
    "The default PDO client configuration file is in `${PDO_INSTALL_ROOT}/opt/pdo/etc/pcontract.toml`. This file contains a basic configuration that should suffice for testing on a single host. \n",
    "\n",
    "*TODO: add a notebook that creates a configuration file.*\n"
   ]
  },
  {
   "cell_type": "markdown",
   "id": "413968fd-83db-44bc-869b-a711a671f839",
   "metadata": {},
   "source": [
    "### Create a services database\n",
    "\n",
    "The PDO client requires information about the enclave services that will be used for contracts. Typically, a service provider will create a site description file. For example, if the site description file is called `site.toml` (the default), then the following command will add all of the services to the database:\n",
    "\n",
    "```\n",
    "$ ${PDO_INSTALL_ROOT}/bin/pdo-service-db import --file site.toml\n",
    "```"
   ]
  },
  {
   "cell_type": "markdown",
   "id": "caf4b74e-c0c0-4132-be97-d5e872a5bf2d",
   "metadata": {},
   "source": [
    "### Create a service group configuration\n",
    "\n",
    "Service groups are a shortcut for configuration of collections of enclave, storage, and provisioning services used to create and provision a PDO contract object. \n",
    "\n",
    "*TODO: add a notebook that creates a groups file.*"
   ]
  },
  {
   "cell_type": "markdown",
   "id": "17fc0722-e97e-48f1-8d43-5179b0c5547b",
   "metadata": {
    "jp-MarkdownHeadingCollapsed": true
   },
   "source": [
    "## Factories\n",
    "\n",
    "* [Create a new asset](factories/issuer.ipynb)\n",
    "* [Mint tokens for an asset](factories/token-issuer.ipynb)\n",
    "* [Create a wallet for assets](factories/wallet.ipynb)\n",
    "* [Create a new order](factories/exchange_create.ipynb)\n",
    "* [Import an existing order](factories/exchange_import.ipynb)\n",
    "\n"
   ]
  }
 ],
 "metadata": {
  "kernelspec": {
   "display_name": "Python 3 (ipykernel)",
   "language": "python",
   "name": "python3"
  },
  "language_info": {
   "codemirror_mode": {
    "name": "ipython",
    "version": 3
   },
   "file_extension": ".py",
   "mimetype": "text/x-python",
   "name": "python",
   "nbconvert_exporter": "python",
   "pygments_lexer": "ipython3",
   "version": "3.10.12"
  }
 },
 "nbformat": 4,
 "nbformat_minor": 5
}
