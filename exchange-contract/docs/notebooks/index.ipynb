{
 "cells": [
  {
   "cell_type": "markdown",
   "id": "67bb03c9-aa81-4491-bf6f-ce9a51d1af7d",
   "metadata": {},
   "source": [
    "# Exchange Contract Family\n"
   ]
  },
  {
   "cell_type": "markdown",
   "id": "ed2da9e6-caa3-41ad-a58d-00c9ef9d2a2a",
   "metadata": {},
   "source": [
    "The Exchange contract family is a suite of contracts that demonstrate many of the capabilities of the private data objects technologies. Three basic contracts define the elements of the Exchange contract family: the asset type contract, the vetting organization contract, and the issuer contract. Three additional contracts extend the Exchange contract family for trading potentially confidential assets using non-fungible tokens.\n",
    "\n",
    "More detailed information about the exchange contract family is available in the \n",
    "[Exchange Contract Family Overview](documents/overview.ipynb)."
   ]
  },
  {
   "cell_type": "markdown",
   "id": "ebeba04b-ba1a-4ebf-b042-bbffa53bef5f",
   "metadata": {},
   "source": [
    "## Factories\n",
    "\n",
    "The links below connect you to \"factories\" for creating contract objects in the Exchange contract family.\n",
    "\n",
    "* [Create a new asset](factories/issuer.ipynb)\n",
    "* [Mint tokens for an asset](factories/token-issuer.ipynb)\n",
    "* [Create a wallet for assets](factories/wallet.ipynb)\n",
    "* [Create a new order](factories/exchange_create.ipynb)\n",
    "* [Import an existing order](factories/exchange_import.ipynb)"
   ]
  }
 ],
 "metadata": {
  "kernelspec": {
   "display_name": "Python 3 (ipykernel)",
   "language": "python",
   "name": "python3"
  },
  "language_info": {
   "codemirror_mode": {
    "name": "ipython",
    "version": 3
   },
   "file_extension": ".py",
   "mimetype": "text/x-python",
   "name": "python",
   "nbconvert_exporter": "python",
   "pygments_lexer": "ipython3",
   "version": "3.10.12"
  }
 },
 "nbformat": 4,
 "nbformat_minor": 5
}
