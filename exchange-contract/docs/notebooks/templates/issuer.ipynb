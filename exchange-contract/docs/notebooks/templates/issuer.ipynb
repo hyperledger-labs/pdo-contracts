{
 "cells": [
  {
   "cell_type": "markdown",
   "id": "947a0493-2838-402d-b2f0-1de63a886a8b",
   "metadata": {
    "editable": true,
    "slideshow": {
     "slide_type": ""
    },
    "tags": []
   },
   "source": [
    "# Issuer Notebook\n",
    "\n",
    "This notebook assumes that the asset type, vetting, and issuer contract objects are all created by the same identity. "
   ]
  },
  {
   "cell_type": "markdown",
   "id": "7eb5d4f5-484c-46b1-88e9-66ef232b56cf",
   "metadata": {
    "editable": true,
    "slideshow": {
     "slide_type": ""
    },
    "tags": []
   },
   "source": [
    "## Configure Issuer Information\n",
    "\n",
    "This section enables customization of the token. Edit the variables in the section below as necessary.\n",
    "* identity : the identity of the creator of the asset type\n",
    "* asset_name : the name of the asset type to be created\n",
    "* asset_description : a description of the asset\n",
    "* asset_link : URL for more detailed information about the asset type\n",
    "* context_file : the name of the context file where token information is located\n",
    "* service_host : default host where the contract objects will be created\n",
    "\n",
    "When this notebook is instantiated, it will generally provide default values for `identity`, `asset_name`, `service_host`, and `notebook_directory`.\n",
    "\n",
    "Note that the notebook assumes that there is a key file for the identity of the form\n",
    "\n",
    "```bash\n",
    "${keys}/${identity}_private.pem\n",
    "```\n"
   ]
  },
  {
   "cell_type": "code",
   "execution_count": null,
   "id": "1f57b531-7cb5-499e-8822-0b75a904f243",
   "metadata": {
    "editable": true,
    "slideshow": {
     "slide_type": ""
    },
    "tags": [
     "parameters"
    ]
   },
   "outputs": [],
   "source": [
    "identity = 'user'\n",
    "asset_name = 'asset'\n",
    "asset_description = 'this is an asset'\n",
    "asset_link = 'http://'\n",
    "context_file = '${etc}/context/${asset_name}_${instance}.toml'\n",
    "instance_identifier = ''\n",
    "service_host = 'localhost'"
   ]
  },
  {
   "cell_type": "markdown",
   "id": "197249dc-682e-45a6-a94f-429ff6f0863d",
   "metadata": {},
   "source": [
    "<hr style=\"border:2px solid gray\">\n",
    "\n",
    "## Initialize"
   ]
  },
  {
   "cell_type": "code",
   "execution_count": null,
   "id": "fc54c90a-3347-4cee-82cd-33c060d3fdd2",
   "metadata": {},
   "outputs": [],
   "source": [
    "import os\n",
    "import pdo.contracts.jupyter as pc_jupyter\n",
    "import IPython.display as ip_display\n",
    "\n",
    "pc_jupyter.load_ipython_extension(get_ipython())"
   ]
  },
  {
   "cell_type": "markdown",
   "id": "8a2b0fe7-5bff-453a-97f5-353b48de27b0",
   "metadata": {
    "editable": true,
    "slideshow": {
     "slide_type": ""
    },
    "tags": []
   },
   "source": [
    "### Initialize the PDO Environment\n",
    "\n",
    "Initialize the PDO environment. This assumes that a functional PDO configuration is in place and that the PDO virtual environment has been activated. In particular, ensure that the groups file and eservice database have been configured correctly. This can be done most easily by running the following in a shell:"
   ]
  },
  {
   "cell_type": "code",
   "execution_count": null,
   "id": "a9e4f9b9-6a46-49db-9a67-fbad9fd7dc4b",
   "metadata": {},
   "outputs": [],
   "source": [
    "%%skip True\n",
    "%%bash -s $service_host\n",
    "if [ ! -f $PDO_HOME/etc/$1_groups.toml ] ; then \n",
    "    $PDO_INSTALL_ROOT/bin/pdo-shell $PDO_HOME/bin/pdo-create-service-groups.psh --service_host $1\n",
    "fi"
   ]
  },
  {
   "cell_type": "markdown",
   "id": "95976c78-6a14-4061-a571-c6c359a9039c",
   "metadata": {},
   "source": [
    "For the most part, no modifications should be required below."
   ]
  },
  {
   "cell_type": "code",
   "execution_count": null,
   "id": "e367a313-1f79-4381-8489-24635c808832",
   "metadata": {
    "editable": true,
    "slideshow": {
     "slide_type": ""
    },
    "tags": []
   },
   "outputs": [],
   "source": [
    "common_bindings = {\n",
    "    'host' : service_host,\n",
    "    'service_host' : service_host,\n",
    "    'asset_name' : asset_name,\n",
    "    'instance' : instance_identifier,\n",
    "}\n",
    "\n",
    "(state, bindings) = pc_jupyter.initialize_environment(identity, **common_bindings)\n",
    "print('environment initialized')"
   ]
  },
  {
   "cell_type": "markdown",
   "id": "ddf0c94b-7dba-4c7c-b1b7-c4cde8778717",
   "metadata": {
    "editable": true,
    "slideshow": {
     "slide_type": ""
    },
    "tags": []
   },
   "source": [
    "### Initialize the Contract Context\n",
    "\r\n",
    "The contract context defines the configuration for a collection of contract objects that interact with one another. By default, the context file used in this notebook is specific to th eassee clasn. We need the class to ensure that all of the information necessary for th eassen itself is availaben. If you prefer to use a common context file, edit the context_file variable below.\r\n",
    "\r\n",
    "For the most part, no other modifications should be required."
   ]
  },
  {
   "cell_type": "code",
   "execution_count": null,
   "id": "2f53049b-5bec-48d5-9955-e39ba7a944ea",
   "metadata": {
    "editable": true,
    "slideshow": {
     "slide_type": ""
    },
    "tags": []
   },
   "outputs": [],
   "source": [
    "asset_path = 'asset.' + asset_name\n",
    "context_file = bindings.expand(context_file)\n",
    "print(\"using context file {}\".format(context_file))\n",
    "\n",
    "context_bindings = {\n",
    "    'asset_type.identity' : identity,\n",
    "    'asset_type.name' : asset_name,\n",
    "    'asset_type.description' : asset_description,\n",
    "    'asset_type.link' : asset_link,\n",
    "    'vetting.identity' : identity,\n",
    "    'issuer.identity' : identity,\n",
    "}\n",
    "context = pc_jupyter.ex_jupyter.initialize_asset_context(\n",
    "    state, bindings, context_file, asset_path, **context_bindings)\n",
    "print('context initialized')"
   ]
  },
  {
   "cell_type": "markdown",
   "id": "587e5afc-6fbf-41a1-8758-4e60278bcd71",
   "metadata": {
    "editable": true,
    "slideshow": {
     "slide_type": ""
    },
    "tags": []
   },
   "source": [
    "### Create the Contracts"
   ]
  },
  {
   "cell_type": "code",
   "execution_count": null,
   "id": "a7807826-a221-44ab-9aea-78718bb7f21f",
   "metadata": {},
   "outputs": [],
   "source": [
    "asset_type_context = pc_jupyter.pbuilder.Context(state, asset_path + '.asset_type')\n",
    "asset_type_save_file = pc_jupyter.pcommand.invoke_contract_cmd(\n",
    "    pc_jupyter.ex_asset_type.cmd_create_asset_type, state, asset_type_context)\n",
    "pc_jupyter.pbuilder.Context.SaveContextFile(state, context_file, prefix=asset_path)\n",
    "print('asset type contract in {}'.format(asset_type_save_file))\n",
    "\n",
    "vetting_context = pc_jupyter.pbuilder.Context(state, asset_path + '.vetting')\n",
    "vetting_save_file = pc_jupyter.pcommand.invoke_contract_cmd(\n",
    "    pc_jupyter.ex_vetting.cmd_create_vetting_organization, state, vetting_context)\n",
    "pc_jupyter.pbuilder.Context.SaveContextFile(state, context_file, prefix=asset_path)\n",
    "print('vetting contract in {}'.format(vetting_save_file))\n",
    "\n",
    "issuer_context = pc_jupyter.pbuilder.Context(state, asset_path + '.issuer')\n",
    "issuer_save_file = pc_jupyter.pcommand.invoke_contract_cmd(\n",
    "    pc_jupyter.ex_issuer.cmd_create_issuer, state, issuer_context)\n",
    "pc_jupyter.pbuilder.Context.SaveContextFile(state, context_file, prefix=asset_path)\n",
    "print('issuer contract in {}'.format(issuer_save_file))\n",
    "\n"
   ]
  },
  {
   "cell_type": "markdown",
   "id": "31307084-3f9a-4d22-b395-5e5b61474e5b",
   "metadata": {},
   "source": [
    "### Approve Authority Chain\n",
    "\n",
    "Once the contracts are created, we need to establish the authority relationship. All issuers must be vetted. In this case, since the contracts are all created by the same individual, establishing the authority is relatively straight forward."
   ]
  },
  {
   "cell_type": "code",
   "execution_count": null,
   "id": "2dea15c9-da55-4bc8-b234-793cfe353a84",
   "metadata": {},
   "outputs": [],
   "source": [
    "pc_jupyter.pcommand.invoke_contract_cmd(\n",
    "    pc_jupyter.ex_vetting.cmd_approve_issuer, state, vetting_context,\n",
    "    issuer=asset_path + '.issuer')\n",
    "\n",
    "if not issuer_context.has_key('initialized') :\n",
    "    pc_jupyter.pcommand.invoke_contract_cmd(\n",
    "        pc_jupyter.ex_issuer.cmd_initialize_issuer, state, issuer_context)\n",
    "\n",
    "    issuer_context.set('initialized', True)\n",
    "    pc_jupyter.pbuilder.Context.SaveContextFile(state, context_file, prefix=asset_path)"
   ]
  },
  {
   "cell_type": "markdown",
   "id": "6939530f-ca01-4304-baa5-49b44d90dcf7",
   "metadata": {},
   "source": [
    "<hr style=\"border:2px solid gray\">\n",
    "\n",
    "## Operate on the Contract"
   ]
  },
  {
   "cell_type": "markdown",
   "id": "d1287f9d-cc9e-4965-ba51-64200e78e2c9",
   "metadata": {
    "editable": true,
    "slideshow": {
     "slide_type": ""
    },
    "tags": []
   },
   "source": [
    "### Issue Assets\n",
    "\n",
    "The issue assets function can be used to issue assets to a user. There must be a public key available for the user in the file `${keys}/${user}_public.pem`. "
   ]
  },
  {
   "cell_type": "code",
   "execution_count": null,
   "id": "717013cf-663c-4d34-bf66-f904026a864f",
   "metadata": {},
   "outputs": [],
   "source": [
    "def issue_assets(owner, count) :\n",
    "    try :\n",
    "        pc_jupyter.pcommand.invoke_contract_cmd(\n",
    "            pc_jupyter.ex_issuer.cmd_issue_assets, state, issuer_context,\n",
    "            owner=owner, count=count)\n",
    "    except ValueError as v :\n",
    "        print(\"assets have already been issued to {}\".format(owner))"
   ]
  },
  {
   "cell_type": "code",
   "execution_count": null,
   "id": "263a64b4-27b9-494e-a211-ea01b60a702c",
   "metadata": {},
   "outputs": [],
   "source": [
    "%%skip True\n",
    "issue_assets('user1', 50)"
   ]
  },
  {
   "cell_type": "markdown",
   "id": "fe73b266-3901-4998-b0d6-d1b269e9feaf",
   "metadata": {},
   "source": [
    "<hr style=\"border:2px solid gray\">\n",
    "\n",
    "## Contract Metadata\n"
   ]
  },
  {
   "cell_type": "markdown",
   "id": "5b1657ef-a1ba-41b1-8b17-45523d35f576",
   "metadata": {},
   "source": [
    "### Export Contract File\n",
    "\n",
    "To share a contract with others, they need the client plugin modules, \n",
    "the context of the contract family (which describes the relationship between\n",
    "the contract objects), and the contract save files (which provides information\n",
    "about the configuration of the contract objects). Plugins are generally\n",
    "distributed separately (they are applicable to many contract objects). The\n",
    "context and contract save files can be packed into a single bundle that\n",
    "can easily be shared. \n",
    "\n",
    "In the code block below, you will likely want to change the value of the export \n",
    "path to the directory where the contract family export file will be saved. Feel\n",
    "free to change the file name as well. The default uses the asset name."
   ]
  },
  {
   "cell_type": "code",
   "execution_count": null,
   "id": "4794f78a-e5dc-46c0-93a4-4cb85e61a435",
   "metadata": {
    "editable": true,
    "slideshow": {
     "slide_type": ""
    },
    "tags": []
   },
   "outputs": [],
   "source": [
    "%%skip True\n",
    "export_file = '${{data}}/{}.zip'.format(asset_name)\n",
    "\n",
    "contexts = ['asset_type', 'vetting', 'issuer']\n",
    "pc_jupyter.export_context_file(state, bindings, context, contexts, export_file)"
   ]
  },
  {
   "cell_type": "markdown",
   "id": "a06d1ca8-34a0-4b83-8810-15704de18850",
   "metadata": {
    "editable": true,
    "papermill": {},
    "slideshow": {
     "slide_type": ""
    },
    "tags": []
   },
   "source": [
    "### Contract Save Files\n",
    "\n",
    "This notebook contains three contract files. Detailed information about the contracts can be found below."
   ]
  },
  {
   "cell_type": "code",
   "execution_count": null,
   "id": "479c397c-542f-4bf0-8afc-04d4eadfc8b9",
   "metadata": {
    "editable": true,
    "slideshow": {
     "slide_type": ""
    },
    "tags": [
     "hide-input"
    ]
   },
   "outputs": [],
   "source": [
    "%%skip True\n",
    "contract_files = {\n",
    "    'asset_type' : asset_type_save_file,\n",
    "    'vetting' : vetting_save_file,\n",
    "    'issuer' : issuer_save_file,\n",
    "}\n",
    "\n",
    "for k, f in contract_files.items() :\n",
    "    ip_display.display(ip_display.JSON(root=k, filename=os.path.join(bindings.expand('${save}'), f)))"
   ]
  },
  {
   "cell_type": "markdown",
   "id": "3891c405-e891-4e83-a05c-501502b96d62",
   "metadata": {
    "editable": true,
    "slideshow": {
     "slide_type": ""
    },
    "tags": []
   },
   "source": [
    "### Contract Context"
   ]
  },
  {
   "cell_type": "code",
   "execution_count": null,
   "id": "1e307c5b-27ed-4786-b995-d9d66a3dbe6b",
   "metadata": {},
   "outputs": [],
   "source": [
    "%%skip True\n",
    "ip_display.display(context.context)"
   ]
  }
 ],
 "metadata": {
  "kernelspec": {
   "display_name": "Python 3 (ipykernel)",
   "language": "python",
   "name": "python3"
  },
  "language_info": {
   "codemirror_mode": {
    "name": "ipython",
    "version": 3
   },
   "file_extension": ".py",
   "mimetype": "text/x-python",
   "name": "python",
   "nbconvert_exporter": "python",
   "pygments_lexer": "ipython3",
   "version": "3.10.12"
  }
 },
 "nbformat": 4,
 "nbformat_minor": 5
}
