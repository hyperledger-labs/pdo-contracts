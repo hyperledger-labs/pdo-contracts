{
 "cells": [
  {
   "cell_type": "markdown",
   "id": "cdaeb4db-09ed-4802-b97a-8009abe70062",
   "metadata": {},
   "source": [
    "# Notebook to Invoke Token Operations"
   ]
  },
  {
   "cell_type": "markdown",
   "id": "70a8e814-1692-41e9-a701-d0c718b47453",
   "metadata": {},
   "source": [
    "## Configure Token Information\n",
    "\n",
    "This section enables customization of the token. Edit the variables in the section below as necessary.\n",
    "* token_owner : the identity of the token owner\n",
    "* token_class : the name of the class of tokens that was minted\n",
    "* token_name : the name of the specific token that was minted\n",
    "* token_path : the full context path to the token\n",
    "* context_file : the name of the context file where token information is located\n",
    "\n",
    "Note that the notebook assumes that there is a key file for the identity of the form\n",
    "\n",
    "```bash\n",
    "${keys}/${identity}_private.pem\n",
    "```\n"
   ]
  },
  {
   "cell_type": "code",
   "execution_count": null,
   "id": "6733f6d6-bfee-4aeb-b17b-55289dde4043",
   "metadata": {
    "editable": true,
    "slideshow": {
     "slide_type": ""
    },
    "tags": [
     "parameters"
    ]
   },
   "outputs": [],
   "source": [
    "token_owner = 'user1'\n",
    "token_class = 'mytoken'\n",
    "token_name = 'token_1'\n",
    "token_path = 'token.${token_class}.token_object.${token_name}'\n",
    "context_file = '${etc}/${token_class}_context.toml'\n",
    "service_host = 'localhost'\n",
    "instance_identifier = ''"
   ]
  },
  {
   "cell_type": "markdown",
   "id": "0955cdb9-4b8a-4de1-b64a-d466c4c25198",
   "metadata": {},
   "source": [
    "<hr style=\"border:2px solid gray\">\n",
    "\n",
    "## Initialize"
   ]
  },
  {
   "cell_type": "code",
   "execution_count": null,
   "id": "b947ea51-bbbb-46b8-8d8e-b3c0894ee693",
   "metadata": {},
   "outputs": [],
   "source": [
    "import os\n",
    "import pdo.contracts.jupyter as pc_jupyter\n",
    "import IPython.display as ip_display\n",
    "\n",
    "pc_jupyter.load_ipython_extension(get_ipython())"
   ]
  },
  {
   "cell_type": "markdown",
   "id": "3df03587-d7ec-4341-a3d3-275a893d769e",
   "metadata": {},
   "source": [
    "### Initialize the PDO Environment\n",
    "\n",
    "Initialize the PDO environment. This assumes that a functional PDO configuration is in place and that the PDO virtual environment has been activated. In particular, ensure that the groups file and eservice database have been configured correctly. This can be done most easily by running the following in a shell:\n",
    "\n",
    "`$PDO_HOME/bin/pdo-create-service-groups.psh --service_host <service_host>`\n",
    "\n",
    "For the most part, no modifications should be required below."
   ]
  },
  {
   "cell_type": "code",
   "execution_count": null,
   "id": "47728fa6-021e-4344-ab5c-29391b7b7f92",
   "metadata": {
    "editable": true,
    "slideshow": {
     "slide_type": ""
    },
    "tags": []
   },
   "outputs": [],
   "source": [
    "common_bindings = {\n",
    "    'host' : service_host,\n",
    "    'service_host' : service_host,\n",
    "    'token_owner' : token_owner,\n",
    "    'token_class' : token_class,\n",
    "    'token_name' : token_name,\n",
    "}\n",
    "\n",
    "(state, bindings) = pc_jupyter.initialize_environment(token_owner, **common_bindings)\n",
    "print('environment initialized')"
   ]
  },
  {
   "cell_type": "markdown",
   "id": "f866c5e7-ccdb-4530-9f3f-c3afaa4c52a9",
   "metadata": {
    "editable": true,
    "slideshow": {
     "slide_type": ""
    },
    "tags": []
   },
   "source": [
    "### Initialize the Contract Context\n",
    "\r\n",
    "The contract context defines the configuration for a collection of contract objects that interact with one another. By default, the context file used in this notebook is specific to the toke class used to mint the token. We need the class to ensure that all of the information necessary for the token itself is availablen. If you prefer to use a common context file, edit the context_file variable below.\r\n",
    "\r\n",
    "For the most part, no other modifications should be required."
   ]
  },
  {
   "cell_type": "code",
   "execution_count": null,
   "id": "792db38f-d0c5-4e94-a6e4-b2aae1aa6a2e",
   "metadata": {
    "editable": true,
    "slideshow": {
     "slide_type": ""
    },
    "tags": []
   },
   "outputs": [],
   "source": [
    "token_class_path = 'token.' + token_class\n",
    "context_file = bindings.expand(context_file)\n",
    "print(\"using context file {}\".format(context_file))\n",
    "\n",
    "context = pc_jupyter.ex_jupyter.initialize_token_context(state, bindings, context_file, token_class_path)\n",
    "print('context initialized')"
   ]
  },
  {
   "cell_type": "markdown",
   "id": "6f17ed88-ef39-4f61-aa01-3c8386215aa6",
   "metadata": {},
   "source": [
    "<hr style=\"border:2px solid gray\">\n",
    "\n",
    "## Operate on the Contract"
   ]
  },
  {
   "cell_type": "code",
   "execution_count": null,
   "id": "6d86c951-3d6e-4765-8ba0-1b5bb7ede4bd",
   "metadata": {
    "editable": true,
    "slideshow": {
     "slide_type": ""
    },
    "tags": []
   },
   "outputs": [],
   "source": [
    "token_context = pc_jupyter.pbuilder.Context(state, token_path)"
   ]
  },
  {
   "cell_type": "markdown",
   "id": "392de557-d7e9-4e81-bf58-5a7b6eb6f208",
   "metadata": {},
   "source": [
    "### Invoke Echo Operation"
   ]
  },
  {
   "cell_type": "code",
   "execution_count": null,
   "id": "0af2b02a-8d26-4e40-8b13-477609964963",
   "metadata": {},
   "outputs": [],
   "source": [
    "%%skip True\n",
    "message = 'hello from token {}'.format(token_path)\n",
    "echo_result = pc_jupyter.pcommand.invoke_contract_cmd(\n",
    "    pc_jupyter.ex_token_object.cmd_echo, state, token_context, message=message)"
   ]
  },
  {
   "cell_type": "markdown",
   "id": "fb962c70-02b0-4c2c-91f4-b025630c3e2d",
   "metadata": {},
   "source": [
    "<hr style=\"border:2px solid gray\">\n",
    "\n",
    "## Contract Metadata"
   ]
  },
  {
   "cell_type": "markdown",
   "id": "c4c6448d-eb1f-40db-adae-192de7c6cda1",
   "metadata": {},
   "source": [
    "### Export Contract File\n",
    "\n",
    "To share a contract with others, they need the client plugin modules, \n",
    "the context of the contract family (which describes the relationship between\n",
    "the contract objects), and the contract save files (which provides information\n",
    "about the configuration of the contract objects). Plugins are generally\n",
    "distributed separately (they are applicable to many contract objects). The\n",
    "context and contract save files can be packed into a single bundle that\n",
    "can easily be shared. \n",
    "\n",
    "In the code block below, you will likely want to change the value of the export \n",
    "path to the directory where the contract family export file will be saved. Feel\n",
    "free to change the file name as well. The default uses the asset name."
   ]
  },
  {
   "cell_type": "code",
   "execution_count": null,
   "id": "da5e8b74-84f1-4762-a44a-aafb4e5098be",
   "metadata": {},
   "outputs": [],
   "source": [
    "%%skip True\n",
    "export_file = '${{data}}/{}.zip'.format(token_class)\n",
    "\n",
    "contexts = ['asset_type', 'vetting', 'guardian', 'token_issuer', 'token_object']\n",
    "pc_jupyter.export_context_file(state, bindings, context, contexts, export_file)"
   ]
  },
  {
   "cell_type": "markdown",
   "id": "66bbc5ca-8061-4ae1-b378-4dbaeab64b6b",
   "metadata": {},
   "source": [
    "### Contract Save Files"
   ]
  },
  {
   "cell_type": "code",
   "execution_count": null,
   "id": "6c3e057f-75e8-47ea-8e14-55a983b99839",
   "metadata": {},
   "outputs": [],
   "source": [
    "%%skip True\n",
    "contract_files = {\n",
    "    'token' : token_context.get('save_file'),\n",
    "}\n",
    "\n",
    "for k, f in contract_files.items() :\n",
    "    ip_display.display(ip_display.JSON(root=k, filename=os.path.join(bindings.expand('${save}'), f)))"
   ]
  },
  {
   "cell_type": "markdown",
   "id": "c0006ecf-50e1-4842-9565-44789ec24d46",
   "metadata": {},
   "source": [
    "### Contract Context"
   ]
  },
  {
   "cell_type": "code",
   "execution_count": null,
   "id": "9052d00b-a8e9-4217-bd01-0a9f696762c4",
   "metadata": {},
   "outputs": [],
   "source": [
    "%%skip True\n",
    "# ip_display.display(ip_display.JSON(data=context.context, root='context'))\n",
    "ip_display.display(context.context)"
   ]
  }
 ],
 "metadata": {
  "kernelspec": {
   "display_name": "Python 3 (ipykernel)",
   "language": "python",
   "name": "python3"
  },
  "language_info": {
   "codemirror_mode": {
    "name": "ipython",
    "version": 3
   },
   "file_extension": ".py",
   "mimetype": "text/x-python",
   "name": "python",
   "nbconvert_exporter": "python",
   "pygments_lexer": "ipython3",
   "version": "3.10.12"
  }
 },
 "nbformat": 4,
 "nbformat_minor": 5
}
