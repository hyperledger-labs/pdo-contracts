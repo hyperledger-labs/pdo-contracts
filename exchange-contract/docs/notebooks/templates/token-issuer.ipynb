{
 "cells": [
  {
   "cell_type": "markdown",
   "id": "6f80caf7-1c92-4223-b480-4fa943371a8b",
   "metadata": {
    "editable": true,
    "slideshow": {
     "slide_type": ""
    },
    "tags": []
   },
   "source": [
    "# Token Issuer Notebook\n"
   ]
  },
  {
   "cell_type": "markdown",
   "id": "ad963a1f-e0fe-4d1d-90f8-3583e4b54471",
   "metadata": {
    "editable": true,
    "slideshow": {
     "slide_type": ""
    },
    "tags": []
   },
   "source": [
    "## Configure Token Information\n",
    "\n",
    "This section enables customization of the token that will be minted. Edit the variables in the section below as necessary.\n",
    "\n",
    "* identity : the identity of the token creator\n",
    "* service_host : the host for the eservice where tokens will be minted, this will use the default service group\n",
    "* token_class : the name of tokens that will be generated, this is only used to simplify local access (e.g. context file name)\n",
    "* token_description : a description of the asset associated with the minted tokens\n",
    "* token_metadata : additional information about the token\n",
    "* count : the number of tokens to mint for the asset\n",
    "\n",
    "Note that the notebook assumes that there is a key file for the identity of the form: `${keys}/${identity}_private.pem`."
   ]
  },
  {
   "cell_type": "code",
   "execution_count": null,
   "id": "58272e84-76a3-4ec4-a11a-6d9ac0f1951f",
   "metadata": {
    "editable": true,
    "slideshow": {
     "slide_type": ""
    },
    "tags": [
     "parameters"
    ]
   },
   "outputs": [],
   "source": [
    "token_owner = 'user1'\n",
    "token_class = 'mytoken'\n",
    "token_description = 'this is my token'\n",
    "token_metadata = 'created by {}'.format(token_owner)\n",
    "count = 5\n",
    "service_host = 'localhost'\n",
    "instance_identifier = ''"
   ]
  },
  {
   "cell_type": "markdown",
   "id": "60ff8a17-9ce8-4014-a311-2a746b0a3964",
   "metadata": {},
   "source": [
    "<hr style=\"border:2px solid gray\">\n",
    "\n",
    "## Initialize"
   ]
  },
  {
   "cell_type": "code",
   "execution_count": null,
   "id": "941d1c9d",
   "metadata": {
    "editable": true,
    "slideshow": {
     "slide_type": ""
    },
    "tags": []
   },
   "outputs": [],
   "source": [
    "import os\n",
    "import pdo.contracts.jupyter as pc_jupyter\n",
    "import IPython.display as ip_display\n",
    "\n",
    "pc_jupyter.load_ipython_extension(get_ipython())"
   ]
  },
  {
   "cell_type": "markdown",
   "id": "10857518-fd15-4d1b-af7c-334e6976934c",
   "metadata": {
    "editable": true,
    "slideshow": {
     "slide_type": ""
    },
    "tags": []
   },
   "source": [
    "### Initialize the PDO Environment\n",
    "\n",
    "Initialize the PDO environment. This assumes that a functional PDO configuration is in place and that the PDO virtual environment has been activated. In particular, ensure that the groups file and eservice database have been configured correctly. If you do not have a service groups configuration, you can create it for a single service host by running the following:"
   ]
  },
  {
   "cell_type": "code",
   "execution_count": null,
   "id": "2be38059-c3d2-4c73-9a87-e419674d5eca",
   "metadata": {
    "editable": true,
    "slideshow": {
     "slide_type": ""
    },
    "tags": []
   },
   "outputs": [],
   "source": [
    "%%skip True\n",
    "%%bash -s $service_host\n",
    "if [ ! -f $PDO_HOME/etc/$1_groups.toml ] ; then \n",
    "    $PDO_INSTALL_ROOT/bin/pdo-shell $PDO_HOME/bin/pdo-create-service-groups.psh --service_host $1\n",
    "fi"
   ]
  },
  {
   "cell_type": "markdown",
   "id": "7eae8c51-fa6d-46b7-a686-6fa30df313b0",
   "metadata": {
    "editable": true,
    "slideshow": {
     "slide_type": ""
    },
    "tags": []
   },
   "source": [
    "For the most part, no modifications should be require below."
   ]
  },
  {
   "cell_type": "code",
   "execution_count": null,
   "id": "93a3cca3-efa2-42eb-ac67-78fa7a629c7d",
   "metadata": {},
   "outputs": [],
   "source": [
    "common_bindings = {\n",
    "    'host' : service_host,\n",
    "    'service_host' : service_host,\n",
    "    'token_owner' : token_owner,\n",
    "    'token_class' : token_class,\n",
    "}\n",
    "\n",
    "(state, bindings) = pc_jupyter.initialize_environment(token_owner, **common_bindings)\n",
    "print('environment initialized')"
   ]
  },
  {
   "cell_type": "markdown",
   "id": "d2993293-a8a6-48aa-94ac-9b69dcdcad6f",
   "metadata": {},
   "source": [
    "### Initialize the Contract Context\n",
    "\n",
    "The contract context defines the configuration for a collection of contract objects that interact with one another. By default, the context file used in this notebook is specific to the token. If you prefer to use a common context file, edit the `context_file` variable below.\n",
    "\n",
    "For the most part, no other modifications should be required."
   ]
  },
  {
   "cell_type": "code",
   "execution_count": null,
   "id": "7d4751a3-a33b-41db-a326-2bf694e0f8c3",
   "metadata": {},
   "outputs": [],
   "source": [
    "token_path = 'token.' + token_class\n",
    "context_file = bindings.expand('${etc}/${token_class}_context.toml')\n",
    "print(\"using context file {}\".format(context_file))\n",
    "\n",
    "context_bindings = {\n",
    "    'asset_type.identity' : token_owner,\n",
    "    'vetting.identity' : token_owner,\n",
    "    'guardian.identity' : token_owner,\n",
    "    'token_issuer.identity' : token_owner,\n",
    "    'token_issuer.count' : count,\n",
    "    'token_issuer.description' : token_description,\n",
    "    'token_issuer.token_metadata.opaque' : token_metadata,\n",
    "    'token_object.identity' : token_owner,\n",
    "}\n",
    "\n",
    "context = pc_jupyter.ex_jupyter.initialize_token_context(state, bindings, context_file, token_path, **context_bindings)\n",
    "pc_jupyter.pbuilder.Context.SaveContextFile(state, context_file, prefix=token_path)\n",
    "print('context initialized')"
   ]
  },
  {
   "cell_type": "markdown",
   "id": "17cfa7df-70d6-401e-9e7f-0a773bb6a235",
   "metadata": {},
   "source": [
    "### Create the Token Issuer Contract\n",
    "\n",
    "The process of creating the token issuer will also create an asset type contract object, a vetting organization contract object, and the guardian contract object. The asset type and vetting organization contract objects are principally used to complete the canonical asset interface that enables transparent value exchanges with tokens and other digital assets."
   ]
  },
  {
   "cell_type": "code",
   "execution_count": null,
   "id": "cc4d937d-afa0-462c-b9f2-66c78a721577",
   "metadata": {},
   "outputs": [],
   "source": [
    "token_issuer_context = pc_jupyter.pbuilder.Context(state, token_path + '.token_issuer')\n",
    "token_issuer_save_file = token_issuer_context.get('save_file')\n",
    "if not token_issuer_save_file :\n",
    "    token_issuer_save_file = pc_jupyter.pcommand.invoke_contract_cmd(\n",
    "        pc_jupyter.ex_token_issuer.cmd_create_token_issuer, state, token_issuer_context)\n",
    "    pc_jupyter.pbuilder.Context.SaveContextFile(state, context_file, prefix=token_path)\n",
    "print('token issuer contract in {}'.format(token_issuer_save_file))"
   ]
  },
  {
   "cell_type": "markdown",
   "id": "34da911b-a59a-4c21-a0f8-d1c89c848ded",
   "metadata": {},
   "source": [
    "<hr style=\"border:2px solid gray\">\n",
    "\n",
    "## Operate on the Contract"
   ]
  },
  {
   "cell_type": "markdown",
   "id": "21998db2-51a8-4f2c-a841-1028cfc0b2dc",
   "metadata": {},
   "source": [
    "### Mint the Tokens"
   ]
  },
  {
   "cell_type": "code",
   "execution_count": null,
   "id": "f54a589c-3965-4d71-a6a9-09e6dcf9829a",
   "metadata": {},
   "outputs": [],
   "source": [
    "token_object_context = pc_jupyter.pbuilder.Context(state, token_path + '.token_object')\n",
    "\n",
    "minted_token_save_files = pc_jupyter.pcommand.invoke_contract_cmd(\n",
    "    pc_jupyter.ex_token_object.cmd_mint_tokens, state, token_object_context)\n",
    "pc_jupyter.pbuilder.Context.SaveContextFile(state, context_file, prefix=token_path)\n",
    "\n",
    "minted_token_contexts = []\n",
    "for token_index in range(1, len(minted_token_save_files)+1) :\n",
    "    minted_token_contexts += [ token_object_context.get_context('token_{}'.format(token_index)) ]\n",
    "    \n",
    "print(\"{} tokens minted\".format(len(minted_token_save_files)))"
   ]
  },
  {
   "cell_type": "markdown",
   "id": "bdce1f1a-5626-40a9-8e8f-44af54269f91",
   "metadata": {},
   "source": [
    "### Create Token Notebooks\n",
    "\n",
    "Create a token notebook for each of the minted tokens."
   ]
  },
  {
   "cell_type": "code",
   "execution_count": null,
   "id": "f8ef720a-abf3-4008-a5ef-6920bbaa005a",
   "metadata": {
    "editable": true,
    "slideshow": {
     "slide_type": ""
    },
    "tags": []
   },
   "outputs": [],
   "source": [
    "%%skip True\n",
    "\n",
    "parameters = {\n",
    "    'token_owner' : token_owner,\n",
    "    'token_class' : token_class,\n",
    "    'context_file' : context_file,\n",
    "    'service_host' : service_host,\n",
    "}\n",
    "\n",
    "for token_context in minted_token_contexts :\n",
    "    parameters['token_path'] = token_context.path\n",
    "    parameters['token_name'] = token_context.path.split('.')[-1]\n",
    "\n",
    "    instance_file = pc_jupyter.instantiate_notebook_from_template(token_class, 'token', parameters)\n",
    "    ip_display.display(ip_display.Markdown('[Token {}]({})'.format(parameters['token_name'], instance_file)))\n"
   ]
  },
  {
   "cell_type": "markdown",
   "id": "ce76c499-a2d8-4348-a8c5-a44d980d8551",
   "metadata": {},
   "source": [
    "<hr style=\"border:2px solid gray\">\n",
    "\n",
    "## Contract Metadata"
   ]
  },
  {
   "cell_type": "markdown",
   "id": "447622fb-9271-4b57-8849-76ceb8163498",
   "metadata": {},
   "source": [
    "### Export Contract File\n",
    "\n",
    "To share a contract with others, they need the client plugin modules, \n",
    "the context of the contract family (which describes the relationship between\n",
    "the contract objects), and the contract save files (which provides information\n",
    "about the configuration of the contract objects). Plugins are generally\n",
    "distributed separately (they are applicable to many contract objects). The\n",
    "context and contract save files can be packed into a single bundle that\n",
    "can easily be shared. \n",
    "\n",
    "In the code block below, you will likely want to change the value of the export \n",
    "path to the directory where the contract family export file will be saved. Feel\n",
    "free to change the file name as well. The default uses the asset name."
   ]
  },
  {
   "cell_type": "code",
   "execution_count": null,
   "id": "49a88501-a64c-40cd-96a5-bd9443ebe8bd",
   "metadata": {},
   "outputs": [],
   "source": [
    "%%skip True\n",
    "export_file = '${{data}}/{}.zip'.format(token_class))\n",
    "\n",
    "contexts = ['asset_type', 'vetting', 'guardian', 'token_issuer', 'token_object']\n",
    "pc_jupyter.export_context_file(state, bindings, context, contexts, export_file)"
   ]
  },
  {
   "cell_type": "markdown",
   "id": "8f5a7eb3-9879-4ae5-a5d9-ed54ebde8642",
   "metadata": {},
   "source": [
    "### Contract Save Files\n",
    "\n",
    "This notebook contains three contract files. Detailed information about the contracts can be found below."
   ]
  },
  {
   "cell_type": "code",
   "execution_count": null,
   "id": "73f7d8b4-55a6-4f82-902e-b2fb891acb06",
   "metadata": {},
   "outputs": [],
   "source": [
    "%%skip True\n",
    "contract_files = {\n",
    "    'asset_type' : context.get('asset_type.save_file'),\n",
    "    'vetting' : context.get('vetting.save_file'),\n",
    "    'token_issuer' : token_issuer_context.get('save_file'),\n",
    "}\n",
    "\n",
    "for k, f in contract_files.items() :\n",
    "    ip_display.display(ip_display.JSON(root=k, filename=os.path.join(bindings.expand('${save}'), f)))"
   ]
  },
  {
   "cell_type": "markdown",
   "id": "4485d90f-2936-45a0-b988-c2c6d0af124d",
   "metadata": {},
   "source": [
    "### Contract Context"
   ]
  },
  {
   "cell_type": "code",
   "execution_count": null,
   "id": "612a5cc5-2bc6-41b1-b7e0-3c17f1bc3f3f",
   "metadata": {},
   "outputs": [],
   "source": [
    "%%skip True\n",
    "# ip_display.display(ip_display.JSON(data=context.context, root='context'))\n",
    "ip_display.display(context.context)"
   ]
  }
 ],
 "metadata": {
  "kernelspec": {
   "display_name": "Python 3 (ipykernel)",
   "language": "python",
   "name": "python3"
  },
  "language_info": {
   "codemirror_mode": {
    "name": "ipython",
    "version": 3
   },
   "file_extension": ".py",
   "mimetype": "text/x-python",
   "name": "python",
   "nbconvert_exporter": "python",
   "pygments_lexer": "ipython3",
   "version": "3.10.12"
  }
 },
 "nbformat": 4,
 "nbformat_minor": 5
}
