{
 "cells": [
  {
   "cell_type": "markdown",
   "id": "a433644e-36bf-4da9-8be0-dcee777c5448",
   "metadata": {
    "editable": true,
    "slideshow": {
     "slide_type": ""
    },
    "tags": []
   },
   "source": [
    "# Wallet Notebook\n",
    "\n",
    "This notebook is used to manage the assets issued to an indivdual by an issuer contract. The notebook assumes that the asset type, vetting, and issuer contract objects have been created. "
   ]
  },
  {
   "cell_type": "markdown",
   "id": "338415d4-1025-4d19-bdb0-709b7d89a356",
   "metadata": {
    "editable": true,
    "slideshow": {
     "slide_type": ""
    },
    "tags": []
   },
   "source": [
    "<hr style=\"border:2px solid gray\">\n",
    "\n",
    "## Configure Issuer Information\n",
    "\n",
    "This section enables customization wallet. Edit the variables in the section below as necessary.\n",
    "* identity : the identity of the creator of the asset type\n",
    "* asset_name : the name of the asset type to be created\n",
    "* context_file : the name of the context file where token information is located\n",
    "\n",
    "When this notebook is instantiated, it will generally provide default values for `identity`, `asset_name`, `context_file` and `notebook_directory`.\n",
    "\n",
    "Note that the notebook assumes that there is a key file for the identity of the form\n",
    "\n",
    "```bash\n",
    "${keys}/${identity}_private.pem\n",
    "```"
   ]
  },
  {
   "cell_type": "code",
   "execution_count": null,
   "id": "4537e09f-bf3a-4a94-9f8a-27d22b626ff7",
   "metadata": {
    "editable": true,
    "slideshow": {
     "slide_type": ""
    },
    "tags": [
     "parameters"
    ]
   },
   "outputs": [],
   "source": [
    "identity = 'user'\n",
    "asset_name = 'asset'\n",
    "context_file = '${etc}/${asset_name}_context.toml'\n",
    "instance_identifier = ''"
   ]
  },
  {
   "cell_type": "markdown",
   "id": "a0620e68-3e29-413c-8a47-f76241087589",
   "metadata": {
    "editable": true,
    "slideshow": {
     "slide_type": ""
    },
    "tags": []
   },
   "source": [
    "<hr style=\"border:2px solid gray\">\n",
    "\n",
    "## Initialize"
   ]
  },
  {
   "cell_type": "code",
   "execution_count": null,
   "id": "fe9cf6f3-feac-4058-95a8-0c32d8fa32da",
   "metadata": {
    "editable": true,
    "slideshow": {
     "slide_type": ""
    },
    "tags": []
   },
   "outputs": [],
   "source": [
    "import os\n",
    "import pdo.contracts.jupyter as pc_jupyter\n",
    "import IPython.display as ip_display\n",
    "\n",
    "pc_jupyter.load_ipython_extension(get_ipython())"
   ]
  },
  {
   "cell_type": "markdown",
   "id": "4e31ceba-63ba-4635-b3d8-0d611d6acdad",
   "metadata": {
    "editable": true,
    "slideshow": {
     "slide_type": ""
    },
    "tags": []
   },
   "source": [
    "### Initialize the PDO Environment\n",
    "\n",
    "Initialize the PDO environment. This assumes that a functional PDO configuration is in place and that the PDO virtual environment has been activated. In particular, ensure that the groups file and eservice database have been configured correctly. This can be done most easily by running the following in a shell:"
   ]
  },
  {
   "cell_type": "code",
   "execution_count": null,
   "id": "4fc9e823-8f71-4b6e-bac0-5718213bdfd2",
   "metadata": {
    "editable": true,
    "papermill": {},
    "slideshow": {
     "slide_type": ""
    },
    "tags": []
   },
   "outputs": [],
   "source": [
    "common_bindings = {\n",
    "    'asset_name' : asset_name,\n",
    "    'notebook' : notebook_directory,\n",
    "}\n",
    "\n",
    "(state, bindings) = pc_jupyter.initialize_environment(identity, **common_bindings)\n",
    "print('environment initialized')"
   ]
  },
  {
   "cell_type": "markdown",
   "id": "74608616-d047-44df-a5b8-19ac106be64c",
   "metadata": {
    "editable": true,
    "slideshow": {
     "slide_type": ""
    },
    "tags": []
   },
   "source": [
    "### Import the Contract\n",
    "\n",
    "If you received the contract as a contract export file, import it into your \n",
    "local configuration here. Adjust the name of the file to reflect where the\n",
    "contract export file is located."
   ]
  },
  {
   "cell_type": "code",
   "execution_count": null,
   "id": "90301953-8f3f-451f-a820-09be1719020b",
   "metadata": {
    "editable": true,
    "slideshow": {
     "slide_type": ""
    },
    "tags": []
   },
   "outputs": [],
   "source": [
    "%%skip True\n",
    "import_file = '${{data}}/{}.zip'.format(asset_name)\n",
    "pc_jupyter.import_context(state, bindings, context_file, import_file)"
   ]
  },
  {
   "cell_type": "markdown",
   "id": "37efb665-692b-4c90-a1f8-872ad65eb52f",
   "metadata": {
    "editable": true,
    "slideshow": {
     "slide_type": ""
    },
    "tags": []
   },
   "source": [
    "### Import the Context\n",
    "\n",
    "The contract context defines the configuration for a collection of contract objects that interact with one another. By default, the context file used in this notebook is specific to the asset class. We need the class to ensure that all of the information necessary for the asset itself is availaben. If you prefer to use a common context file, edit the context_file variable below.\r\n",
    "\r\n",
    "For the most part, no other modifications should be required."
   ]
  },
  {
   "cell_type": "code",
   "execution_count": null,
   "id": "9e4784ac-4296-413a-a258-65cc90a2a36b",
   "metadata": {
    "editable": true,
    "slideshow": {
     "slide_type": ""
    },
    "tags": []
   },
   "outputs": [],
   "source": [
    "asset_path = 'asset.' + asset_name\n",
    "context_file = bindings.expand(context_file)\n",
    "print('using context file {}'.format(context_file))\n",
    "\n",
    "# Customize the context with the user's identity\n",
    "context_bindings = {\n",
    "    'asset_type.identity' : identity,\n",
    "    'vetting.identity' : identity,\n",
    "    'issuer.identity' : identity,\n",
    "}\n",
    "\n",
    "context = pc_jupyter.ex_jupyter.initialize_asset_context(\n",
    "    state, bindings, context_file, asset_path, **context_bindings)\n",
    "print('context initialized')"
   ]
  },
  {
   "cell_type": "markdown",
   "id": "4d4b4707-7e19-4207-b275-421dcf0775ae",
   "metadata": {
    "editable": true,
    "slideshow": {
     "slide_type": ""
    },
    "tags": []
   },
   "source": [
    "### Configure the Contract Objects\n",
    "\n",
    "Set up the connections to each of the contract objects. Although most interactions\n",
    "are with the issuer contract object, it may be necessary to verify the authority\n",
    "of the other contracts as well."
   ]
  },
  {
   "cell_type": "code",
   "execution_count": null,
   "id": "51999cf5-e17e-4146-bbc2-000ea15dd2d0",
   "metadata": {
    "editable": true,
    "slideshow": {
     "slide_type": ""
    },
    "tags": []
   },
   "outputs": [],
   "source": [
    "asset_type_context = pc_jupyter.pbuilder.Context(state, asset_path + '.asset_type')\n",
    "asset_type_save_file = asset_type_context.get('save_file')\n",
    "print('asset type contract in {}'.format(asset_type_save_file))\n",
    "\n",
    "vetting_context = pc_jupyter.pbuilder.Context(state, asset_path + '.vetting')\n",
    "vetting_save_file = vetting_context.get('save_file')\n",
    "print('vetting contract in {}'.format(vetting_save_file))\n",
    "\n",
    "issuer_context = pc_jupyter.pbuilder.Context(state, asset_path + '.issuer')\n",
    "issuer_save_file = issuer_context.get('save_file')\n",
    "print('issuer contract in {}'.format(issuer_save_file))"
   ]
  },
  {
   "cell_type": "markdown",
   "id": "3e525235-991f-4a0f-9002-a819ddb1ec82",
   "metadata": {
    "editable": true,
    "slideshow": {
     "slide_type": ""
    },
    "tags": []
   },
   "source": [
    "<hr style=\"border:2px solid gray\">\n",
    "\n",
    "## Operate on the Issuer Contract\n",
    "\n",
    "This section defines several functions that can be used to interact with the issuer contract:\n",
    "* get_balance -- get the current number of assets associated with the given identity\n",
    "* transfer -- transfer assets from one identity to another"
   ]
  },
  {
   "cell_type": "code",
   "execution_count": null,
   "id": "634ebdc8-3fbb-4937-ae73-90e805c65bf5",
   "metadata": {
    "editable": true,
    "slideshow": {
     "slide_type": ""
    },
    "tags": []
   },
   "outputs": [],
   "source": [
    "def get_balance(owner) :\n",
    "    pc_jupyter.pcommand.invoke_contract_cmd(\n",
    "        pc_jupyter.ex_issuer.cmd_get_balance, state, issuer_context, identity=owner)\n",
    "\n",
    "def transfer(count, new_owner, old_owner=identity) :\n",
    "    pc_jupyter.pcommand.invoke_contract_cmd(\n",
    "        pc_jupyter.ex_issuer.cmd_transfer_assets, state, issuer_context,\n",
    "        new_owner=new_owner, count=count, identity=old_owner)\n",
    "    pc_jupyter.pcommand.invoke_contract_cmd(\n",
    "        pc_jupyter.ex_issuer.cmd_get_balance, state, issuer_context, identity=old_owner)"
   ]
  },
  {
   "cell_type": "markdown",
   "id": "6e86477c-c655-43ef-b74c-02d52b43afd5",
   "metadata": {
    "editable": true,
    "slideshow": {
     "slide_type": ""
    },
    "tags": []
   },
   "source": [
    "### Get the Account Balance"
   ]
  },
  {
   "cell_type": "code",
   "execution_count": null,
   "id": "076c4be3-7890-4f7e-86bb-80025de0aba2",
   "metadata": {
    "editable": true,
    "slideshow": {
     "slide_type": ""
    },
    "tags": []
   },
   "outputs": [],
   "source": [
    "%%skip True\n",
    "owner = input('identity to check [{}]'.format(identity)) or identity\n",
    "get_balance(owner)"
   ]
  },
  {
   "cell_type": "markdown",
   "id": "95449799-a27c-4a92-bc58-08e3a88ae9d9",
   "metadata": {
    "editable": true,
    "slideshow": {
     "slide_type": ""
    },
    "tags": []
   },
   "source": [
    "### Transfer Assets"
   ]
  },
  {
   "cell_type": "code",
   "execution_count": null,
   "id": "e194ecd7-6f9d-4369-b897-8cc4c4a4f3de",
   "metadata": {
    "editable": true,
    "slideshow": {
     "slide_type": ""
    },
    "tags": []
   },
   "outputs": [],
   "source": [
    "%%skip True\n",
    "count = int(input('number of assets to transfer'))\n",
    "new_owner = input('identity of the recipient of the transfer')\n",
    "old_owner = input('identity of the source of the transfer [{}]'.format(identity)) or identity\n",
    "\n",
    "transfer(count, new_owner, old_owner)"
   ]
  },
  {
   "cell_type": "markdown",
   "id": "33111696-e0cc-4d1c-8697-76fb68180811",
   "metadata": {
    "editable": true,
    "slideshow": {
     "slide_type": ""
    },
    "tags": []
   },
   "source": [
    "### Escrow Assets\n",
    "\n",
    "Work in Progress"
   ]
  },
  {
   "cell_type": "code",
   "execution_count": null,
   "id": "cdc76a05-373c-43fe-83c8-a5fffc525e12",
   "metadata": {
    "editable": true,
    "slideshow": {
     "slide_type": ""
    },
    "tags": []
   },
   "outputs": [],
   "source": []
  }
 ],
 "metadata": {
  "kernelspec": {
   "display_name": "Python 3 (ipykernel)",
   "language": "python",
   "name": "python3"
  },
  "language_info": {
   "codemirror_mode": {
    "name": "ipython",
    "version": 3
   },
   "file_extension": ".py",
   "mimetype": "text/x-python",
   "name": "python",
   "nbconvert_exporter": "python",
   "pygments_lexer": "ipython3",
   "version": "3.10.12"
  }
 },
 "nbformat": 4,
 "nbformat_minor": 5
}
