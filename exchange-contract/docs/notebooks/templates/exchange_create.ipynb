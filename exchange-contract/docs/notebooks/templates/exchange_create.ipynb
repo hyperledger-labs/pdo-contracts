{
 "cells": [
  {
   "cell_type": "markdown",
   "id": "a433644e-36bf-4da9-8be0-dcee777c5448",
   "metadata": {
    "editable": true,
    "slideshow": {
     "slide_type": ""
    },
    "tags": []
   },
   "source": [
    "# Create a New Exchange Contract\n",
    "\n",
    "This notebook is used to interact with an exchange contract object. The assumption is that you have imported the issuer contracts that will be involved in the exchange."
   ]
  },
  {
   "cell_type": "markdown",
   "id": "619bc2c5-49d2-4e76-8592-bd5930532fc3",
   "metadata": {
    "editable": true,
    "papermill": {},
    "slideshow": {
     "slide_type": ""
    },
    "tags": []
   },
   "source": [
    "<hr style=\"border:2px solid gray\">\n",
    "\n",
    "## Configure Exchange Information\n",
    "\n",
    "This section enables customization wallet. Edit the variables in the section below as necessary.\n",
    "* identity : the identity of the creator of the asset type\n",
    "* offer_context_file : the name of the context file with information about the offered asset\n",
    "* offer_count : number of assets to offer\n",
    "* request_context_file : the name of the context file with information about the requested asset\n",
    "* request_count : number of assets to request\n",
    "\n",
    "Note that the notebook assumes that there is a key file for the identity of the form\n",
    "\n",
    "```bash\n",
    "${keys}/${identity}_private.pem\n",
    "```"
   ]
  },
  {
   "cell_type": "code",
   "execution_count": null,
   "id": "61ff4262-c73b-40fc-a36e-a337161bbfd7",
   "metadata": {
    "editable": true,
    "papermill": {},
    "slideshow": {
     "slide_type": ""
    },
    "tags": [
     "parameters"
    ]
   },
   "outputs": [],
   "source": [
    "identity = 'user'\n",
    "offer_context_file = '${etc}/context/offer_issuer.toml'\n",
    "offer_count = 1\n",
    "request_context_file = '${etc}/context/request_issuer.toml'\n",
    "request_count = 1\n",
    "exchange_context_file = '${etc}/context/exchange_${instance}.toml'\n",
    "instance_identifier = ''\n",
    "service_host = 'localhost'"
   ]
  },
  {
   "cell_type": "markdown",
   "id": "5f20b020-841d-4a83-9804-b5db382db37c",
   "metadata": {
    "editable": true,
    "papermill": {},
    "slideshow": {
     "slide_type": ""
    },
    "tags": []
   },
   "source": [
    "<hr style=\"border:2px solid gray\">\n",
    "\n",
    "## Initialize the Exchange Contract "
   ]
  },
  {
   "cell_type": "code",
   "execution_count": null,
   "id": "aa9bdb6f-0b90-4536-8d99-59e2c3ec519f",
   "metadata": {
    "editable": true,
    "papermill": {},
    "slideshow": {
     "slide_type": ""
    },
    "tags": []
   },
   "outputs": [],
   "source": [
    "import os\n",
    "import pdo.contracts.jupyter as pc_jupyter\n",
    "import IPython.display as ip_display\n",
    "\n",
    "pc_jupyter.load_ipython_extension(get_ipython())"
   ]
  },
  {
   "cell_type": "markdown",
   "id": "ddba25a9-53a5-495b-96e5-4c3b02c0bc1a",
   "metadata": {
    "editable": true,
    "papermill": {},
    "slideshow": {
     "slide_type": ""
    },
    "tags": []
   },
   "source": [
    "### Initialize the PDO Environment\n",
    "\n",
    "Initialize the PDO environment. This assumes that a functional PDO configuration is in place and that the PDO virtual environment has been activated. In particular, ensure that the groups file and eservice database have been configured correctly. This can be done most easily by running the following in a shell:"
   ]
  },
  {
   "cell_type": "code",
   "execution_count": null,
   "id": "948a3a30-5e45-48f0-945f-0cf60c16af4b",
   "metadata": {},
   "outputs": [],
   "source": [
    "%%skip True\n",
    "%%bash -s $service_host\n",
    "if [ ! -f $PDO_HOME/etc/$1_groups.toml ] ; then \n",
    "    $PDO_INSTALL_ROOT/bin/pdo-shell $PDO_HOME/bin/pdo-create-service-groups.psh --service_host $1\n",
    "fi"
   ]
  },
  {
   "cell_type": "markdown",
   "id": "404d4059-4692-40e1-a63c-f6b1328733a3",
   "metadata": {},
   "source": [
    "In the next box we will set up the PDO client configuration. This will load any client configuration files, service group files, and service database files. Common bindings provides a means to override specific configuration variables and set variable expansion values.\n",
    "\n",
    "For the most part, no modifications should be required."
   ]
  },
  {
   "cell_type": "code",
   "execution_count": null,
   "id": "f8876d31-0ea6-4265-98b2-8ecd8a4de8c3",
   "metadata": {
    "editable": true,
    "papermill": {},
    "slideshow": {
     "slide_type": ""
    },
    "tags": []
   },
   "outputs": [],
   "source": [
    "common_bindings = {\n",
    "    'host' : service_host,\n",
    "    'service_host' : service_host,\n",
    "    'instance' : instance_identifier,\n",
    "}\n",
    "\n",
    "(state, bindings) = pc_jupyter.initialize_environment(identity, **common_bindings)\n",
    "\n",
    "offer_context_file = bindings.expand(offer_context_file)\n",
    "request_context_file = bindings.expand(request_context_file)\n",
    "exchange_context_file = bindings.expand(exchange_context_file)\n",
    "\n",
    "print('environment initialized')"
   ]
  },
  {
   "cell_type": "markdown",
   "id": "281d20f9-997d-447b-b2f8-1a18464bed67",
   "metadata": {},
   "source": [
    "### Import the Issuer Contracts\n",
    "\n",
    "The exchange notebook assumes that issuer contracts have been fully imported and the context files are available. If you received the issuer contracts as contract export files, import them into your local configuration. Adjust the name of the file to reflect where the contract export files are located."
   ]
  },
  {
   "cell_type": "code",
   "execution_count": null,
   "id": "ee5f0866-24a7-408f-89bd-424a0965f082",
   "metadata": {},
   "outputs": [],
   "source": [
    "%%skip True\n",
    "import_file = input('Name of the import file for the offer issuer contract')\n",
    "pc_jupyter.import_context_file(state, bindings, offer_context_file, import_file)"
   ]
  },
  {
   "cell_type": "code",
   "execution_count": null,
   "id": "e1514114-6c76-40e9-acb6-0c14afe91420",
   "metadata": {},
   "outputs": [],
   "source": [
    "%%skip True\n",
    "import_file = input('Name of the import file for the request issuer contrat')\n",
    "pc_jupyter.import_context_file(state, bindings, request_context_file, import_file)"
   ]
  },
  {
   "cell_type": "markdown",
   "id": "5ea0f1d5-174a-41a4-899a-15510cf18f1a",
   "metadata": {},
   "source": [
    "### Create the Exchange Contract Context\n",
    "\n",
    "Create a new exchange contract context. The contract context defines the configuration for a collection of contract objects that interact with one another. By default, the context file used in this notebook is specific to the exchange contract object that will be created. If you prefer to use a common context file, edit the context_file variable below."
   ]
  },
  {
   "cell_type": "markdown",
   "id": "319e67f2-e84f-4025-b328-7d7047fd250f",
   "metadata": {},
   "source": [
    "#### Import the Asset Issuer Contexts\n",
    "\n",
    "The context files for the assets used for the offer and request must be available. The file names for these context files should have been set above. The context for each of the issuers will be loaded with the exchange instance identifier prefix."
   ]
  },
  {
   "cell_type": "code",
   "execution_count": null,
   "id": "aa64203a-cf7a-4fd2-bbc5-55bf2ad0ab88",
   "metadata": {},
   "outputs": [],
   "source": [
    "pc_jupyter.pcontext.Context.LoadContextFile(\n",
    "    state, bindings, offer_context_file, prefix='{}.offer'.format(instance_identifier))\n",
    "\n",
    "pc_jupyter.pcontext.Context.LoadContextFile(\n",
    "    state, bindings, request_context_file, prefix='{}.request'.format(instance_identifier))"
   ]
  },
  {
   "cell_type": "markdown",
   "id": "07eb64cb-8a6c-46b9-91f8-20cfa0cc2cb0",
   "metadata": {},
   "source": [
    "#### Create the Exchange Context\n",
    "\n",
    "Create the context for the exchange contract. In addition, we need to ensure that the identity used to interact with the issuer contracts is the same as the identity used for the exchange contract. For the most part, all settings should have been set above. "
   ]
  },
  {
   "cell_type": "code",
   "execution_count": null,
   "id": "781fbd07-ff00-47ed-88d6-05c06d5bde71",
   "metadata": {
    "editable": true,
    "papermill": {},
    "slideshow": {
     "slide_type": ""
    },
    "tags": []
   },
   "outputs": [],
   "source": [
    "context_bindings = {\n",
    "    'identity' : identity,\n",
    "    'order.identity' : identity,\n",
    "    'order.offer.count' : offer_count,\n",
    "    'order.request.count' : request_count,\n",
    "    'request.asset_type.identity' : identity,\n",
    "    'request.vetting.identity' : identity,\n",
    "    'request.issuer.identity' : identity,\n",
    "    'offer.asset_type.identity' : identity,\n",
    "    'offer.vetting.identity' : identity,\n",
    "    'offer.issuer.identity' : identity\n",
    "}\n",
    "\n",
    "context = pc_jupyter.ex_jupyter.initialize_order_context(\n",
    "    state, bindings, exchange_context_file, prefix=instance_identifier, **context_bindings)"
   ]
  },
  {
   "cell_type": "markdown",
   "id": "15de7ae9-9966-446e-9fab-0214856f451c",
   "metadata": {},
   "source": [
    "### Create the Exchange Contract\n",
    "\n",
    "We are now ready to create the exchange contract. If the exchange contract save file already exists (implying that the contract already exists), then skip this step."
   ]
  },
  {
   "cell_type": "code",
   "execution_count": null,
   "id": "1ac5d413-68c8-4f44-bc07-dd9472a03a96",
   "metadata": {
    "papermill": {},
    "tags": []
   },
   "outputs": [],
   "source": [
    "exchange_save_file = pc_jupyter.pcontract_cmd.get_contract_from_context(state, context.get_context('order'))\n",
    "if exchange_save_file is None :\n",
    "    exchange_save_file = pc_jupyter.pcommand.invoke_contract_cmd(\n",
    "        pc_jupyter.ex_exchange.cmd_create_order, state, context.get_context('order'))\n",
    "    pc_jupyter.pbuilder.Context.SaveContextFile(state, exchange_context_file, prefix=instance_identifier)\n",
    "print('exchange contract in {}'.format(exchange_save_file))"
   ]
  },
  {
   "cell_type": "markdown",
   "id": "c9ff0115-ebaf-4920-bb17-ef68b9b17473",
   "metadata": {},
   "source": [
    "<hr style=\"border:2px solid gray\">\n",
    "\n",
    "## Work with the Exchange Contract"
   ]
  },
  {
   "cell_type": "markdown",
   "id": "a50f73a3-7151-49d3-9155-9a0eabc31675",
   "metadata": {},
   "source": [
    "### Examine the Offered Asset"
   ]
  },
  {
   "cell_type": "code",
   "execution_count": null,
   "id": "4f1c6c87-27b0-4b01-b45b-a0890ae7bb8d",
   "metadata": {},
   "outputs": [],
   "source": [
    "%%skip True\n",
    "import json\n",
    "session = pc_jupyter.pbuilder.SessionParameters(save_file=exchange_save_file)\n",
    "offered_asset = pc_jupyter.pcontract.invoke_contract_op(\n",
    "            pc_jupyter.ex_exchange.op_examine_offered_asset, state, context.get_context('order'), session)\n",
    "offered_asset = json.loads(offered_asset)\n",
    "ip_display.display(ip_display.JSON(offered_asset))\n"
   ]
  },
  {
   "cell_type": "markdown",
   "id": "06f7e97e-b0e6-45a5-870d-1f841524fa9e",
   "metadata": {},
   "source": [
    "### Examine the Requested Asset"
   ]
  },
  {
   "cell_type": "code",
   "execution_count": null,
   "id": "b4c65cd9-226c-485b-98a6-f9a82145fb14",
   "metadata": {},
   "outputs": [],
   "source": [
    "%%skip True\n",
    "import json\n",
    "session = pc_jupyter.pbuilder.SessionParameters(save_file=exchange_save_file)\n",
    "offered_asset = pc_jupyter.pcontract.invoke_contract_op(\n",
    "            pc_jupyter.ex_exchange.op_examine_requested_asset, state, context.get_context('order'), session)\n",
    "offered_asset = json.loads(offered_asset)\n",
    "ip_display.display(ip_display.JSON(offered_asset))\n"
   ]
  },
  {
   "cell_type": "markdown",
   "id": "84904271-456c-4bff-8593-2042d9d13fa4",
   "metadata": {},
   "source": [
    "### Match the Order"
   ]
  },
  {
   "cell_type": "code",
   "execution_count": null,
   "id": "f1cce29c-6390-4642-8f20-8678e44f7590",
   "metadata": {},
   "outputs": [],
   "source": []
  },
  {
   "cell_type": "markdown",
   "id": "a39b0210-9123-48ac-9767-6bbb18e19557",
   "metadata": {},
   "source": [
    "### Cancel Order"
   ]
  },
  {
   "cell_type": "code",
   "execution_count": null,
   "id": "13c2f7c6-fb75-42d4-af2a-2b4d8a11425d",
   "metadata": {},
   "outputs": [],
   "source": []
  },
  {
   "cell_type": "markdown",
   "id": "285fa1e2-e719-4302-b70b-8b37ccab485c",
   "metadata": {},
   "source": [
    "### Claim Offered Asset"
   ]
  },
  {
   "cell_type": "code",
   "execution_count": null,
   "id": "f582c3f4-ed1a-4748-b1e6-c669406267d6",
   "metadata": {},
   "outputs": [],
   "source": []
  },
  {
   "cell_type": "markdown",
   "id": "477a523b-7a08-428e-a0ff-bdd1bc3ee66b",
   "metadata": {},
   "source": [
    "### Claim Requested Asset"
   ]
  },
  {
   "cell_type": "code",
   "execution_count": null,
   "id": "c8773360-4163-476f-9bd6-574c80329878",
   "metadata": {},
   "outputs": [],
   "source": []
  },
  {
   "cell_type": "markdown",
   "id": "6f4f2656-3708-4e09-9819-c079312d97dd",
   "metadata": {},
   "source": [
    "<hr style=\"border:2px solid gray\">\n",
    "\n",
    "## Contract Metadata"
   ]
  },
  {
   "cell_type": "markdown",
   "id": "59813476-95d1-4d94-a313-de8a6feed970",
   "metadata": {},
   "source": [
    "### Export Contract File\n",
    "\n",
    "To share a contract with others, they need the client plugin modules, the context of the contract family (which describes the relationship between the contract objects), and the contract save files (which provides information about the configuration of the contract objects). Plugins are generally distributed separately (they are applicable to many contract objects). The context and contract save files can be packed into a single bundle that can easily be shared.\r\n",
    "\r\n",
    "In the code block below, you will likely want to change the value of the export path to the directory where the contract family export file will be saved. Feel free to change the file name as well. The default uses the asset name."
   ]
  },
  {
   "cell_type": "code",
   "execution_count": null,
   "id": "ca3220d9-9ce0-4927-a37e-6621ecea265b",
   "metadata": {},
   "outputs": [],
   "source": [
    "%%skip True\n",
    "export_file = '${data}/exchange_${instance}.zip'\n",
    "contexts = [\n",
    "    'offer.asset_type', 'offer.vetting', 'offer.issuer', \n",
    "    'request.asset_type', 'request.vetting', 'request.issuer',\n",
    "    'order'\n",
    "]\n",
    "pc_jupyter.export_context_file(state, bindings, context, contexts, export_file)"
   ]
  },
  {
   "cell_type": "markdown",
   "id": "1e96d625-fae4-4e0f-850e-4664b256857e",
   "metadata": {},
   "source": [
    "### Contract Save Files\n",
    "\n",
    "This notebook contains one contract file. Detailed information can be found below."
   ]
  },
  {
   "cell_type": "code",
   "execution_count": null,
   "id": "4cbfbb5a-49de-4d98-b995-9e100b5ccac5",
   "metadata": {},
   "outputs": [],
   "source": [
    "%%skip True\n",
    "ip_display.display(ip_display.JSON(filename=exchange_save_file))"
   ]
  },
  {
   "cell_type": "markdown",
   "id": "eeff6229-34cd-487f-bdc5-c1c167b4d0ff",
   "metadata": {},
   "source": [
    "### Contract Context"
   ]
  },
  {
   "cell_type": "code",
   "execution_count": null,
   "id": "b73cfd51-2295-4eeb-8588-d802614e9b0c",
   "metadata": {},
   "outputs": [],
   "source": [
    "%%skip True\n",
    "ip_display.display(context.context)"
   ]
  }
 ],
 "metadata": {
  "kernelspec": {
   "display_name": "Python 3 (ipykernel)",
   "language": "python",
   "name": "python3"
  },
  "language_info": {
   "codemirror_mode": {
    "name": "ipython",
    "version": 3
   },
   "file_extension": ".py",
   "mimetype": "text/x-python",
   "name": "python",
   "nbconvert_exporter": "python",
   "pygments_lexer": "ipython3",
   "version": "3.10.12"
  }
 },
 "nbformat": 4,
 "nbformat_minor": 5
}
