{
 "cells": [
  {
   "cell_type": "markdown",
   "id": "a433644e-36bf-4da9-8be0-dcee777c5448",
   "metadata": {
    "editable": true,
    "slideshow": {
     "slide_type": ""
    },
    "tags": []
   },
   "source": [
    "# Exchange Import Notebook\n",
    "\n",
    "This notebook is used to interact with an exchange contract object. "
   ]
  },
  {
   "cell_type": "markdown",
   "id": "619bc2c5-49d2-4e76-8592-bd5930532fc3",
   "metadata": {
    "editable": true,
    "papermill": {},
    "slideshow": {
     "slide_type": ""
    },
    "tags": []
   },
   "source": [
    "<hr style=\"border:2px solid gray\">\n",
    "\n",
    "## Configure Exchange Information\n",
    "\n",
    "This section enables customization. Edit the variables in the section below as necessary.\n",
    "* identity : the identity of the creator of the asset type\n",
    "* exchange_import_file : the name of the contract import file for an existing exchange\n",
    "* exchange_context_file : the name of the context file to use for the exchange contract\n",
    "\n",
    "Note that the notebook assumes that there is a key file for the identity of the form\n",
    "\n",
    "```bash\n",
    "${keys}/${identity}_private.pem\n",
    "```"
   ]
  },
  {
   "cell_type": "code",
   "execution_count": null,
   "id": "61ff4262-c73b-40fc-a36e-a337161bbfd7",
   "metadata": {
    "editable": true,
    "papermill": {},
    "slideshow": {
     "slide_type": ""
    },
    "tags": [
     "parameters"
    ]
   },
   "outputs": [],
   "source": [
    "identity = 'user'\n",
    "exchange_import_file = '${data}/exchange_${instance}.zip'\n",
    "exchange_context_file = '${etc}/context/exchange_${instance}.toml'\n",
    "instance_identifier = ''"
   ]
  },
  {
   "cell_type": "markdown",
   "id": "5f20b020-841d-4a83-9804-b5db382db37c",
   "metadata": {
    "editable": true,
    "papermill": {},
    "slideshow": {
     "slide_type": ""
    },
    "tags": []
   },
   "source": [
    "<hr style=\"border:2px solid gray\">\n",
    "\n",
    "## Initialize the Exchange Contract "
   ]
  },
  {
   "cell_type": "code",
   "execution_count": null,
   "id": "aa9bdb6f-0b90-4536-8d99-59e2c3ec519f",
   "metadata": {
    "editable": true,
    "papermill": {},
    "slideshow": {
     "slide_type": ""
    },
    "tags": []
   },
   "outputs": [],
   "source": [
    "import os\n",
    "import pdo.contracts.jupyter as pc_jupyter\n",
    "import IPython.display as ip_display\n",
    "\n",
    "pc_jupyter.load_ipython_extension(get_ipython())"
   ]
  },
  {
   "cell_type": "markdown",
   "id": "ddba25a9-53a5-495b-96e5-4c3b02c0bc1a",
   "metadata": {
    "editable": true,
    "papermill": {},
    "slideshow": {
     "slide_type": ""
    },
    "tags": []
   },
   "source": [
    "### Initialize the PDO Environment\n",
    "\n",
    "Initialize the PDO environment. This assumes that a functional PDO configuration is in place and that the PDO virtual environment has been activated. In particular, ensure that the groups file and eservice database have been configured correctly. This can be done most easily by running the following in a shell:"
   ]
  },
  {
   "cell_type": "code",
   "execution_count": null,
   "id": "948a3a30-5e45-48f0-945f-0cf60c16af4b",
   "metadata": {},
   "outputs": [],
   "source": [
    "%%skip True\n",
    "%%bash -s $service_host\n",
    "if [ ! -f $PDO_HOME/etc/$1_groups.toml ] ; then \n",
    "    $PDO_INSTALL_ROOT/bin/pdo-shell $PDO_HOME/bin/pdo-create-service-groups.psh --service_host $1\n",
    "fi"
   ]
  },
  {
   "cell_type": "markdown",
   "id": "404d4059-4692-40e1-a63c-f6b1328733a3",
   "metadata": {},
   "source": [
    "For the most part, no modifications should be required below."
   ]
  },
  {
   "cell_type": "code",
   "execution_count": null,
   "id": "f8876d31-0ea6-4265-98b2-8ecd8a4de8c3",
   "metadata": {
    "editable": true,
    "papermill": {},
    "slideshow": {
     "slide_type": ""
    },
    "tags": []
   },
   "outputs": [],
   "source": [
    "common_bindings = {\n",
    "    'instance' : instance_identifier,\n",
    "}\n",
    "\n",
    "(state, bindings) = pc_jupyter.initialize_environment(identity, **common_bindings)\n",
    "print('environment initialized')\n",
    "\n",
    "exchange_context_file = bindings.expand(exchange_context_file)\n",
    "print('exchange context stored in {}'.format(exchange_context_file))"
   ]
  },
  {
   "cell_type": "markdown",
   "id": "a5360e96-cb31-4742-9fb0-118ab22f9fa9",
   "metadata": {
    "editable": true,
    "papermill": {},
    "slideshow": {
     "slide_type": ""
    },
    "tags": []
   },
   "source": [
    "### Import the Exchange Contract\n",
    "\n",
    "If you received the exchange contract as a contract export file, import it into your \n",
    "local configuration here. Adjust the name of the file to reflect where the\n",
    "contract export file is located."
   ]
  },
  {
   "cell_type": "code",
   "execution_count": null,
   "id": "b358f173-7086-4adf-9fd7-de4110199414",
   "metadata": {
    "editable": true,
    "papermill": {},
    "slideshow": {
     "slide_type": ""
    },
    "tags": []
   },
   "outputs": [],
   "source": [
    "if not os.path.exists(exchange_context_file) :\n",
    "    pc_jupyter.import_context_file(state, bindings, exchange_context_file, exchange_import_file)"
   ]
  },
  {
   "cell_type": "code",
   "execution_count": null,
   "id": "f731cf11-4f1f-4c98-bc17-c0adfd18496f",
   "metadata": {},
   "outputs": [],
   "source": [
    "context_bindings = {\n",
    "    'identity' : identity,\n",
    "    'order.identity' : identity,\n",
    "    'request.asset_type.identity' : identity,\n",
    "    'request.vetting.identity' : identity,\n",
    "    'request.issuer.identity' : identity,\n",
    "    'offer.asset_type.identity' : identity,\n",
    "    'offer.vetting.identity' : identity,\n",
    "    'offer.issuer.identity' : identity\n",
    "}\n",
    "\n",
    "context = pc_jupyter.initialize_order_context(\n",
    "    state, bindings, exchange_context_file, prefix=instance_identifier, **context_bindings)"
   ]
  },
  {
   "cell_type": "code",
   "execution_count": null,
   "id": "1ac5d413-68c8-4f44-bc07-dd9472a03a96",
   "metadata": {
    "papermill": {},
    "tags": []
   },
   "outputs": [],
   "source": [
    "exchange_save_file = pc_jupyter.pcontract_cmd.get_contract_from_context(state, context.get_context('order'))\n",
    "print('exchange contract in {}'.format(exchange_save_file))"
   ]
  },
  {
   "cell_type": "markdown",
   "id": "c9ff0115-ebaf-4920-bb17-ef68b9b17473",
   "metadata": {},
   "source": [
    "<hr style=\"border:2px solid gray\">\n",
    "\n",
    "## Work with the Exchange Contract"
   ]
  },
  {
   "cell_type": "markdown",
   "id": "a50f73a3-7151-49d3-9155-9a0eabc31675",
   "metadata": {},
   "source": [
    "### Examine the Offered Asset"
   ]
  },
  {
   "cell_type": "code",
   "execution_count": null,
   "id": "4f1c6c87-27b0-4b01-b45b-a0890ae7bb8d",
   "metadata": {},
   "outputs": [],
   "source": [
    "%%skip True\n",
    "import json\n",
    "session = pc_jupyter.pbuilder.SessionParameters(save_file=exchange_save_file)\n",
    "offered_asset = pc_jupyter.pcontract.invoke_contract_op(\n",
    "            pc_jupyter.ex_exchange.op_examine_offered_asset, state, context.get_context('order'), session)\n",
    "offered_asset = json.loads(offered_asset)\n",
    "ip_display.display(ip_display.JSON(offered_asset))\n"
   ]
  },
  {
   "cell_type": "markdown",
   "id": "06f7e97e-b0e6-45a5-870d-1f841524fa9e",
   "metadata": {},
   "source": [
    "### Examine the Requested Asset"
   ]
  },
  {
   "cell_type": "code",
   "execution_count": null,
   "id": "b4c65cd9-226c-485b-98a6-f9a82145fb14",
   "metadata": {},
   "outputs": [],
   "source": [
    "%%skip True\n",
    "import json\n",
    "session = pc_jupyter.pbuilder.SessionParameters(save_file=exchange_save_file)\n",
    "offered_asset = pc_jupyter.pcontract.invoke_contract_op(\n",
    "            pc_jupyter.ex_exchange.op_examine_requested_asset, state, context.get_context('order'), session)\n",
    "offered_asset = json.loads(offered_asset)\n",
    "ip_display.display(ip_display.JSON(offered_asset))\n"
   ]
  },
  {
   "cell_type": "markdown",
   "id": "84904271-456c-4bff-8593-2042d9d13fa4",
   "metadata": {},
   "source": [
    "### Match the Order"
   ]
  },
  {
   "cell_type": "code",
   "execution_count": null,
   "id": "f1cce29c-6390-4642-8f20-8678e44f7590",
   "metadata": {},
   "outputs": [],
   "source": []
  },
  {
   "cell_type": "markdown",
   "id": "a39b0210-9123-48ac-9767-6bbb18e19557",
   "metadata": {},
   "source": [
    "### Cancel Order"
   ]
  },
  {
   "cell_type": "code",
   "execution_count": null,
   "id": "13c2f7c6-fb75-42d4-af2a-2b4d8a11425d",
   "metadata": {},
   "outputs": [],
   "source": []
  },
  {
   "cell_type": "markdown",
   "id": "285fa1e2-e719-4302-b70b-8b37ccab485c",
   "metadata": {},
   "source": [
    "### Claim Offered Asset"
   ]
  },
  {
   "cell_type": "code",
   "execution_count": null,
   "id": "f582c3f4-ed1a-4748-b1e6-c669406267d6",
   "metadata": {},
   "outputs": [],
   "source": []
  },
  {
   "cell_type": "markdown",
   "id": "477a523b-7a08-428e-a0ff-bdd1bc3ee66b",
   "metadata": {},
   "source": [
    "### Claim Requested Asset"
   ]
  },
  {
   "cell_type": "code",
   "execution_count": null,
   "id": "c8773360-4163-476f-9bd6-574c80329878",
   "metadata": {},
   "outputs": [],
   "source": []
  },
  {
   "cell_type": "markdown",
   "id": "34ed4736-3ec0-4ce8-81d7-a96a9f21af48",
   "metadata": {},
   "source": [
    "<hr style=\"border:2px solid gray\">\n",
    "\n",
    "## Contract Metadata"
   ]
  },
  {
   "cell_type": "markdown",
   "id": "31a48e21-d129-417a-9fdb-9c6727b4fa03",
   "metadata": {},
   "source": [
    "### Export Contract File\n",
    "\n",
    "To share a contract with others, they need the client plugin modules, the context of the contract family (which describes the relationship between the contract objects), and the contract save files (which provides information about the configuration of the contract objects). Plugins are generally distributed separately (they are applicable to many contract objects). The context and contract save files can be packed into a single bundle that can easily be shared.\r\n",
    "\r\n",
    "In the code block below, you will likely want to change the value of the export path to the directory where the contract family export file will be saved. Feel free to change the file name as well. The default uses the asset name."
   ]
  },
  {
   "cell_type": "code",
   "execution_count": null,
   "id": "b8c9ec50-8ea0-4516-8380-6c026603a042",
   "metadata": {},
   "outputs": [],
   "source": [
    "%%skip True\n",
    "export_file = '${data}/exchange_${instance}.zip'\n",
    "contexts = [\n",
    "    'offer.asset_type', 'offer.vetting', 'offer.issuer', \n",
    "    'request.asset_type', 'request.vetting', 'request.issuer',\n",
    "    'order'\n",
    "]\n",
    "pc_jupyter.export_context_file(state, bindings, context, contexts, export_file)"
   ]
  },
  {
   "cell_type": "markdown",
   "id": "3be224e5-fbc1-4e24-a0da-062a533d5fe4",
   "metadata": {},
   "source": [
    "### Contract Save Files\n",
    "\n",
    "This notebook contains one contract file. Detailed information can be found below."
   ]
  },
  {
   "cell_type": "code",
   "execution_count": null,
   "id": "7b873f01-cc83-4b49-9b6d-294feef27d85",
   "metadata": {},
   "outputs": [],
   "source": [
    "%%skip True\n",
    "ip_display.display(ip_display.JSON(filename=exchange_save_file))"
   ]
  },
  {
   "cell_type": "markdown",
   "id": "634d6782-c15d-415e-9923-3006db97d8e4",
   "metadata": {},
   "source": [
    "### Contract Context"
   ]
  },
  {
   "cell_type": "code",
   "execution_count": null,
   "id": "8859d306-e491-40bc-abe1-8e7c5d58cb9c",
   "metadata": {},
   "outputs": [],
   "source": [
    "%%skip True\n",
    "ip_display.display(context.context)"
   ]
  }
 ],
 "metadata": {
  "kernelspec": {
   "display_name": "Python 3 (ipykernel)",
   "language": "python",
   "name": "python3"
  },
  "language_info": {
   "codemirror_mode": {
    "name": "ipython",
    "version": 3
   },
   "file_extension": ".py",
   "mimetype": "text/x-python",
   "name": "python",
   "nbconvert_exporter": "python",
   "pygments_lexer": "ipython3",
   "version": "3.10.12"
  }
 },
 "nbformat": 4,
 "nbformat_minor": 5
}
